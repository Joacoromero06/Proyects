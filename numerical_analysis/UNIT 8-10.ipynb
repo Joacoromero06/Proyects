{
 "cells": [
  {
   "cell_type": "markdown",
   "id": "f608894b-e03b-4ba3-9103-5902b474fc20",
   "metadata": {},
   "source": [
    "## POO in python"
   ]
  },
  {
   "cell_type": "code",
   "execution_count": 7,
   "id": "ceba8ce4-e23a-47d6-81d8-b851c2af27c7",
   "metadata": {},
   "outputs": [
    {
     "data": {
      "text/plain": [
       "<Axes: >"
      ]
     },
     "execution_count": 7,
     "metadata": {},
     "output_type": "execute_result"
    },
    {
     "data": {
      "image/png": "[encoded data removed]",
      "text/plain": [
       "<Figure size 640x480 with 1 Axes>"
      ]
     },
     "metadata": {},
     "output_type": "display_data"
    }
   ],
   "source": [
    "import numpy as np\n",
    "import matplotlib.pyplot as plt\n",
    "class Point():\n",
    "    def __init__( self, x, y ):\n",
    "        self.x = x\n",
    "        self.y = y\n",
    "    def distance( self, p ):\n",
    "        return np.sqrt( (self.x - p.x) **2 + (self.y - p.y) **2 )\n",
    "    def plot_point( self ):\n",
    "        fig, ax = plt.subplots()\n",
    "        ax.scatter(self.x, self.y)\n",
    "        return ax\n",
    "p = Point(2,3)\n",
    "p.plot_point()"
   ]
  },
  {
   "cell_type": "markdown",
   "id": "c8c83507-0e93-4284-96f3-b811faefe5d1",
   "metadata": {},
   "source": [
    "## COMPLEXITY IN PYTHON"
   ]
  },
  {
   "cell_type": "code",
   "execution_count": 4,
   "id": "a04c15f3-cbeb-480f-8f08-a4d63887554e",
   "metadata": {},
   "outputs": [
    {
     "name": "stdout",
     "output_type": "stream",
     "text": [
      "CPU times: user 371 ms, sys: 173 μs, total: 371 ms\n",
      "Wall time: 371 ms\n",
      "CPU times: user 2.17 s, sys: 1.99 ms, total: 2.17 s\n",
      "Wall time: 2.19 s\n",
      "364 ms ± 5.4 ms per loop (mean ± std. dev. of 7 runs, 1 loop each)\n",
      "2.07 s ± 5.15 ms per loop (mean ± std. dev. of 7 runs, 1 loop each)\n"
     ]
    }
   ],
   "source": [
    "l = [1]*100000000\n",
    "def slow_sum(l):\n",
    "    s = 0\n",
    "    for x in l:\n",
    "        s += x\n",
    "    return s\n",
    "    \n",
    "%time sum(l)\n",
    "%time slow_sum(l)\n",
    "%timeit sum(l)\n",
    "%timeit slow_sum(l)"
   ]
  },
  {
   "cell_type": "code",
   "execution_count": 4,
   "id": "ac9c65a6-89f9-47db-89e3-273105d86b40",
   "metadata": {},
   "outputs": [
    {
     "name": "stdout",
     "output_type": "stream",
     "text": [
      "1.02 s ± 9.76 ms per loop (mean ± std. dev. of 7 runs, 1 loop each)\n"
     ]
    },
    {
     "data": {
      "text/plain": [
       "Timer unit: 1e-09 s\n",
       "\n",
       "Total time: 2.93615 s\n",
       "File: /tmp/ipykernel_5350/2783479568.py\n",
       "Function: slow at line 2\n",
       "\n",
       "Line #      Hits         Time  Per Hit   % Time  Line Contents\n",
       "==============================================================\n",
       "     2                                           def slow( n: int, m: int ):\n",
       "     3                                               # compute the lazy sum of an numpy array of m random elements n times\n",
       "     4      1001     213699.0    213.5      0.0      for i in range(n):\n",
       "     5      1000   85384686.0  85384.7      2.9          arr = np.random.rand(m)\n",
       "     6      1000     176978.0    177.0      0.0          s = 0\n",
       "     7  10001000 1058485893.0    105.8     36.1          for j in range (m):\n",
       "     8  10000000 1791884077.0    179.2     61.0              s += arr[j]"
      ]
     },
     "metadata": {},
     "output_type": "display_data"
    }
   ],
   "source": [
    "import numpy as np\n",
    "def slow( n: int, m: int ):\n",
    "    # compute the lazy sum of an numpy array of m random elements n times\n",
    "    for i in range(n):\n",
    "        arr = np.random.rand(m)\n",
    "        s = 0\n",
    "        for j in range (m):\n",
    "            s += arr[j]\n",
    "#%prun slow(1000, 10000)\n",
    "%lprun -f slow slow(1000, 10000)\n",
    "%timeit slow(1000, 10000)"
   ]
  },
  {
   "cell_type": "code",
   "execution_count": 2,
   "id": "9de91740-8d0d-4e15-8a40-4b3de9b2b629",
   "metadata": {},
   "outputs": [
    {
     "name": "stdout",
     "output_type": "stream",
     "text": [
      "The line_profiler extension is already loaded. To reload it, use:\n",
      "  %reload_ext line_profiler\n"
     ]
    }
   ],
   "source": [
    "%load_ext line_profiler"
   ]
  }
 ],
 "metadata": {
  "kernelspec": {
   "display_name": "Python 3 (ipykernel)",
   "language": "python",
   "name": "python3"
  },
  "language_info": {
   "codemirror_mode": {
    "name": "ipython",
    "version": 3
   },
   "file_extension": ".py",
   "mimetype": "text/x-python",
   "name": "python",
   "nbconvert_exporter": "python",
   "pygments_lexer": "ipython3",
   "version": "3.13.5"
  }
 },
 "nbformat": 4,
 "nbformat_minor": 5
}
