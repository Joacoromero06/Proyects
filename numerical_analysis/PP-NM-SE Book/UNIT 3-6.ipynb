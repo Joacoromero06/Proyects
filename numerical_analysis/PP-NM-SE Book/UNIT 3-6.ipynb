{
 "cells": [
  {
   "cell_type": "markdown",
   "id": "e61d6bc8-6235-42d1-a02c-371df9d70e09",
   "metadata": {},
   "source": [
    "# functions"
   ]
  },
  {
   "cell_type": "code",
   "execution_count": 5,
   "id": "3babc035-299c-42b9-860b-73f9bc17c062",
   "metadata": {},
   "outputs": [
    {
     "data": {
      "text/plain": [
       "builtin_function_or_method"
      ]
     },
     "execution_count": 5,
     "metadata": {},
     "output_type": "execute_result"
    }
   ],
   "source": [
    "import numpy as np\n",
    "type(np.array)\n",
    "#np.array?"
   ]
  },
  {
   "cell_type": "code",
   "execution_count": 39,
   "id": "573bdcc6-f113-4930-97d4-bc0be1dc0e6d",
   "metadata": {},
   "outputs": [
    {
     "data": {
      "text/plain": [
       "1.0000000000000002"
      ]
     },
     "execution_count": 39,
     "metadata": {},
     "output_type": "execute_result"
    }
   ],
   "source": [
    "adder = lambda x, y: x+y\n",
    "adder(2,3)\n",
    "l=[(2,1),(2,12312313131),(1,2),(2,12),(12,31)]\n",
    "l.sort(key= lambda x: x[1])\n",
    "#sorted?\n",
    "f=min\n",
    "type(f)\n",
    "f(l)"
   ]
  },
  {
   "cell_type": "code",
   "execution_count": 46,
   "id": "3cd78638-1821-4ed1-aaa3-b3866625a06e",
   "metadata": {},
   "outputs": [
    {
     "data": {
      "text/plain": [
       "2"
      ]
     },
     "execution_count": 46,
     "metadata": {},
     "output_type": "execute_result"
    }
   ],
   "source": [
    "import math\n",
    "from math import sin as s\n",
    "def fun_plus_one(f,x):\n",
    "    return f(x)+1\n",
    "fun_plus_one(s,math.pi)\n",
    "s(math.pi/2)\n",
    "fun_plus_one(lambda x: (x**2 + 2*x + 1) , 0 )"
   ]
  },
  {
   "cell_type": "markdown",
   "id": "ea508c5a-a822-4af5-9f58-16b0e1de84b2",
   "metadata": {
    "jp-MarkdownHeadingCollapsed": true
   },
   "source": [
    "## ex 1-2"
   ]
  },
  {
   "cell_type": "code",
   "execution_count": 60,
   "id": "0ebbc5cd-2fbc-4d0c-8751-333201d7073c",
   "metadata": {},
   "outputs": [
    {
     "data": {
      "text/plain": [
       "[[1, 0, 1, 0, 1],\n",
       " [0, 1, 0, 1, 0],\n",
       " [1, 0, 1, 0, 1],\n",
       " [0, 1, 0, 1, 0],\n",
       " [1, 0, 1, 0, 1]]"
      ]
     },
     "execution_count": 60,
     "metadata": {},
     "output_type": "execute_result"
    }
   ],
   "source": [
    "from math import exp as e\n",
    "def my_sinh(x:float):\n",
    "    \"\"\"\n",
    "    description: calcule sin hiperbolic\n",
    "    input: float 1 by 1\n",
    "    output: sinh(1)\n",
    "    \"\"\"\n",
    "    return ( (e(x)) - (e(-x)) ) / 2\n",
    "def my_board(n:int):\n",
    "    \"\"\"\n",
    "    description: \n",
    "        construct an table of nxn that has\n",
    "        '1' in position pair\n",
    "        '0' in position impair\n",
    "    input: n the size of the table\n",
    "    output: the table constructed\n",
    "    \"\"\"\n",
    "    def type_position(i:int, j:int):\n",
    "        \"\"\"\n",
    "        description:\n",
    "            determinates the type of position\n",
    "            position (i,j) i and j indexes\n",
    "            i,j even or i==j\n",
    "            i,j odd or i!=j\n",
    "        \"\"\"\n",
    "        return ( 1 if (i%2==0 and j%2==0) or (i%2!=0 and j%2!=0)  else 0 )\n",
    "    \n",
    "    return [[type_position(i,j)  for j in range (n)]for i in range(n)]\n",
    "\n",
    "my_sinh(1)==math.sinh(1)\n",
    "my_board(5)\n"
   ]
  },
  {
   "cell_type": "markdown",
   "id": "0679df7f-f850-488b-ab6f-2f207f762207",
   "metadata": {
    "jp-MarkdownHeadingCollapsed": true
   },
   "source": [
    "## ex 3 & 7"
   ]
  },
  {
   "cell_type": "code",
   "execution_count": 68,
   "id": "2cdfa897-c2b3-4c22-a623-439f9a95f48e",
   "metadata": {},
   "outputs": [
    {
     "data": {
      "text/plain": [
       "array([[2., 2., 2.],\n",
       "       [2., 2., 2.]])"
      ]
     },
     "execution_count": 68,
     "metadata": {},
     "output_type": "execute_result"
    }
   ],
   "source": [
    "def split_matrix(M:np.array):\n",
    "    \"\"\"\n",
    "    description: split a matrix into two\n",
    "    input: a matrix at least mxn, n>=2 and m>0\n",
    "    output: 2 matrixes, part of M\n",
    "    \"\"\"\n",
    "    m,n=M.shape\n",
    "    a=M[:,[i for i in range(n//2 + 1)]]\n",
    "    b=M[:,[i for i in range(n//2 + 1,n)]]\n",
    "    return a,b\n",
    "\n",
    "def my_twos(shape:tuple ):\n",
    "    \"\"\"\n",
    "    description: create an np matrix of all twos\n",
    "    input:       tuple of dimensions, shape is (m,n)\n",
    "    output:      an matrix of all twos\n",
    "    \"\"\"\n",
    "    return np.zeros(shape)+2\n",
    "\n",
    "split_matrix(np.array([[1,2,6],[24,120,720],[5040,40320,362880]]))\n",
    "my_twos((2,3))"
   ]
  },
  {
   "cell_type": "markdown",
   "id": "18e7efbc-0560-4e0a-a96e-371f937bfec1",
   "metadata": {
    "jp-MarkdownHeadingCollapsed": true
   },
   "source": [
    "## ex 8 - 11"
   ]
  },
  {
   "cell_type": "code",
   "execution_count": 73,
   "id": "80f2ea44-2ccd-4613-9ce5-846b9454958a",
   "metadata": {},
   "outputs": [
    {
     "data": {
      "text/plain": [
       "-2"
      ]
     },
     "execution_count": 73,
     "metadata": {},
     "output_type": "execute_result"
    }
   ],
   "source": [
    "f=lambda x, y: (x-y)\n",
    "add_strings=lambda s1, s2: (s1+s2)\n",
    "add_strings('hola',' chau')\n",
    "f(2,4)"
   ]
  },
  {
   "cell_type": "markdown",
   "id": "780ef67f-91d4-4be0-a626-79a4a48d0a5e",
   "metadata": {},
   "source": [
    "## ex 12 & 13"
   ]
  },
  {
   "cell_type": "code",
   "execution_count": 113,
   "id": "e5d61a88-d216-47ce-9bb2-fe0e63938c28",
   "metadata": {
    "collapsed": true,
    "jupyter": {
     "outputs_hidden": true
    },
    "scrolled": true
   },
   "outputs": [
    {
     "data": {
      "text/plain": [
       "(array([47, 48, 49, 50, 51, 52]),)"
      ]
     },
     "execution_count": 113,
     "metadata": {},
     "output_type": "execute_result"
    },
    {
     "data": {
      "text/plain": [
       "\u001b[31mCall signature:\u001b[39m  np.where(*args, **kwargs)\n",
       "\u001b[31mType:\u001b[39m            _ArrayFunctionDispatcher\n",
       "\u001b[31mString form:\u001b[39m     <built-in function where>\n",
       "\u001b[31mDocstring:\u001b[39m      \n",
       "where(condition, [x, y], /)\n",
       "\n",
       "Return elements chosen from `x` or `y` depending on `condition`.\n",
       "\n",
       ".. note::\n",
       "    When only `condition` is provided, this function is a shorthand for\n",
       "    ``np.asarray(condition).nonzero()``. Using `nonzero` directly should be\n",
       "    preferred, as it behaves correctly for subclasses. The rest of this\n",
       "    documentation covers only the case where all three arguments are\n",
       "    provided.\n",
       "\n",
       "Parameters\n",
       "----------\n",
       "condition : array_like, bool\n",
       "    Where True, yield `x`, otherwise yield `y`.\n",
       "x, y : array_like\n",
       "    Values from which to choose. `x`, `y` and `condition` need to be\n",
       "    broadcastable to some shape.\n",
       "\n",
       "Returns\n",
       "-------\n",
       "out : ndarray\n",
       "    An array with elements from `x` where `condition` is True, and elements\n",
       "    from `y` elsewhere.\n",
       "\n",
       "See Also\n",
       "--------\n",
       "choose\n",
       "nonzero : The function that is called when x and y are omitted\n",
       "\n",
       "Notes\n",
       "-----\n",
       "If all the arrays are 1-D, `where` is equivalent to::\n",
       "\n",
       "    [xv if c else yv\n",
       "     for c, xv, yv in zip(condition, x, y)]\n",
       "\n",
       "Examples\n",
       "--------\n",
       ">>> import numpy as np\n",
       ">>> a = np.arange(10)\n",
       ">>> a\n",
       "array([0, 1, 2, 3, 4, 5, 6, 7, 8, 9])\n",
       ">>> np.where(a < 5, a, 10*a)\n",
       "array([ 0,  1,  2,  3,  4, 50, 60, 70, 80, 90])\n",
       "\n",
       "This can be used on multidimensional arrays too:\n",
       "\n",
       ">>> np.where([[True, False], [True, True]],\n",
       "...          [[1, 2], [3, 4]],\n",
       "...          [[9, 8], [7, 6]])\n",
       "array([[1, 8],\n",
       "       [3, 4]])\n",
       "\n",
       "The shapes of x, y, and the condition are broadcast together:\n",
       "\n",
       ">>> x, y = np.ogrid[:3, :4]\n",
       ">>> np.where(x < y, x, 10 + y)  # both x and 10+y are broadcast\n",
       "array([[10,  0,  0,  0],\n",
       "       [10, 11,  1,  1],\n",
       "       [10, 11, 12,  2]])\n",
       "\n",
       ">>> a = np.array([[0, 1, 2],\n",
       "...               [0, 2, 4],\n",
       "...               [0, 3, 6]])\n",
       ">>> np.where(a < 4, a, -1)  # -1 is broadcast\n",
       "array([[ 0,  1,  2],\n",
       "       [ 0,  2, -1],\n",
       "       [ 0,  3, -1]])\n",
       "\u001b[31mClass docstring:\u001b[39m\n",
       "Class to wrap functions with checks for __array_function__ overrides.\n",
       "\n",
       "All arguments are required, and can only be passed by position.\n",
       "\n",
       "Parameters\n",
       "----------\n",
       "dispatcher : function or None\n",
       "    The dispatcher function that returns a single sequence-like object\n",
       "    of all arguments relevant.  It must have the same signature (except\n",
       "    the default values) as the actual implementation.\n",
       "    If ``None``, this is a ``like=`` dispatcher and the\n",
       "    ``_ArrayFunctionDispatcher`` must be called with ``like`` as the\n",
       "    first (additional and positional) argument.\n",
       "implementation : function\n",
       "    Function that implements the operation on NumPy arrays without\n",
       "    overrides.  Arguments passed calling the ``_ArrayFunctionDispatcher``\n",
       "    will be forwarded to this (and the ``dispatcher``) as if using\n",
       "    ``*args, **kwargs``.\n",
       "\n",
       "Attributes\n",
       "----------\n",
       "_implementation : function\n",
       "    The original implementation passed in."
      ]
     },
     "metadata": {},
     "output_type": "display_data"
    }
   ],
   "source": [
    "def my_donut_area(r1:np.array,r2:np.array):\n",
    "    \"\"\"\n",
    "    description: calculate de area of the donut with r1_i and r2_i\n",
    "    input: list of small radius & big radius, same length\n",
    "    output: list of areas of donuts\n",
    "    \"\"\"\n",
    "    pi_times_2= 2*math.pi\n",
    "    return  ( (pi_times_2 * r2**2)  - (pi_times_2 * r1**2) )\n",
    "def my_within_tolerance(A:np.array, a:float, tol:float):\n",
    "    \"\"\"\n",
    "    description: \n",
    "        construct an array of indexes\n",
    "        of A that satisfy the tolerance\n",
    "    input: \n",
    "        'A' an 1D-array of elements type float\n",
    "        'a' center point where we calculate distance, float\n",
    "        'tol' tolerance for solve the distance, float\n",
    "    output: list of indexes of A that satisfy the |A-a|<tol\n",
    "    \"\"\"\n",
    "    within = np.abs(A-a) < tol\n",
    "    #x neither y is required, where evaluate the boolean elements of within\n",
    "    #where return indices where condition is true\n",
    "    indices = np.where(within)\n",
    "    np.where?\n",
    "    return indices\n",
    "\n",
    "\n",
    "my_donut_area(np.arange(1,4),np.arange(2,6+1,2))\n",
    "my_within_tolerance(np.arange(0,1.01,0.01),0.5,0.03)\n"
   ]
  },
  {
   "cell_type": "code",
   "execution_count": 123,
   "id": "6c1b38b9-f5e0-448e-ac49-560575cf76a7",
   "metadata": {},
   "outputs": [
    {
     "name": "stdout",
     "output_type": "stream",
     "text": [
      "Help on method_descriptor:\n",
      "\n",
      "extend(self, iterable, /) unbound builtins.list method\n",
      "    Extend list by appending elements from the iterable.\n",
      "\n"
     ]
    },
    {
     "data": {
      "text/plain": [
       "\u001b[31mSignature:\u001b[39m list.extend(self, iterable, /)\n",
       "\u001b[31mDocstring:\u001b[39m Extend list by appending elements from the iterable.\n",
       "\u001b[31mType:\u001b[39m      method_descriptor"
      ]
     },
     "metadata": {},
     "output_type": "display_data"
    }
   ],
   "source": [
    "l=[12,12,3,1,4,123,123,1,31,231,2,31,23,13]\n",
    "isinstance(l[1],int)\n",
    "type(enumerate(l))\n",
    "type(map(float,l))\n",
    "#enumerate?\n",
    "def my_within_tolerance2(arr:list,a:float,tol:float):\n",
    "    \"\"\"\n",
    "    description:\n",
    "        search the position of elements in an nDlist \n",
    "        that satisfy |l-a|<tol\n",
    "    input:\n",
    "        l: python list of floats elements, nested list of lists\n",
    "        a: float number, used for compare against the list\n",
    "        tol: tolerance supports the distance between an element and 'a'\n",
    "    output:\n",
    "        list of indixes, tuples n-dimension,\n",
    "        wher the element at that positition satisfies the condition\n",
    "    \"\"\"\n",
    "    def find_indices(l,current_index=[]):\n",
    "        indices=list()\n",
    "        #base case, not a list\n",
    "        if not isinstance(l,list):\n",
    "            elem=l\n",
    "            return [current_index] if abs(elem-a)<tol else []\n",
    "        #recursive search\n",
    "        for i,sub_list in enumerate(l):\n",
    "            new_index=current_index+[i]\n",
    "            indices.extend(find_indices(sub_list,new_index))\n",
    "            \n",
    "        return indices\n",
    "    return find_indices(arr)\n",
    "#help(list.extend)\n",
    "#list.extend?\n",
    "my_within_tolerance2(list(np.arange(0,1.01,0.01)),0.5,0.03)"
   ]
  },
  {
   "cell_type": "markdown",
   "id": "5aace963-71bb-48e1-8fab-9c3592edf168",
   "metadata": {},
   "source": [
    "## ex 14"
   ]
  },
  {
   "cell_type": "code",
   "execution_count": 130,
   "id": "daf5ad17-d06f-486f-9cb9-d604397e0ed0",
   "metadata": {},
   "outputs": [
    {
     "name": "stdout",
     "output_type": "stream",
     "text": [
      "[ True  True  True False False False False False False False] [False False False False False False False False  True  True]\n"
     ]
    },
    {
     "data": {
      "text/plain": [
       "array([-3, -3, -3, -2, -1,  0,  1,  2,  3,  3])"
      ]
     },
     "execution_count": 130,
     "metadata": {},
     "output_type": "execute_result"
    }
   ],
   "source": [
    "def my_bounding_array(A: np.array, bottom: float, top: float):\n",
    "    \"\"\"\n",
    "    description:\n",
    "        Construct and array where is \n",
    "            A[i] when bottom<ai<top\n",
    "            bottom when ai<=bottom\n",
    "            top when ai>=top\n",
    "    input: np array of elements type float\n",
    "    output: np array constructed as description descripts\n",
    "    \"\"\"\n",
    "    print(A<=bottom,A>=top)\n",
    "    A[A<=bottom]=bottom\n",
    "    A[A>=top]=top\n",
    "    return A\n",
    "my_bounding_array(np.arange(-5,5,1),-3,3)"
   ]
  },
  {
   "cell_type": "markdown",
   "id": "2f31b160-342a-46d9-9481-761f3f17e703",
   "metadata": {},
   "source": [
    "# BRANCHINGS STATEMENTS"
   ]
  },
  {
   "cell_type": "code",
   "execution_count": null,
   "id": "6d24b867-532c-4326-8ff5-677f717bdd4e",
   "metadata": {},
   "outputs": [],
   "source": [
    "if x > 2:\n",
    "    if y < 2:\n",
    "        out = x + y\n",
    "    else:\n",
    "        out = x - y\n",
    "else:\n",
    "    if y > 2:\n",
    "        out = x*y\n",
    "    else:\n",
    "        out=0\n",
    "\n",
    "##which is better?\n",
    "\n",
    "if x>2 and y<2:\n",
    "    out=x+y\n",
    "elif x>2:\n",
    "    out = x - y\n",
    "elif y>2:\n",
    "    out = x*y\n",
    "else:\n",
    "    out=0"
   ]
  },
  {
   "cell_type": "code",
   "execution_count": 155,
   "id": "5a2cb5f0-c53c-421d-bcd5-3ef96ac95226",
   "metadata": {},
   "outputs": [
    {
     "data": {
      "text/plain": [
       "False"
      ]
     },
     "execution_count": 155,
     "metadata": {},
     "output_type": "execute_result"
    }
   ],
   "source": [
    "l=[1,1,1,2,31,3,112,312,3]\n",
    "all(l)\n",
    "l.extend([0])\n",
    "all(l)\n",
    "notl=[0,0,0,0,0,0,0]\n",
    "any(notl)"
   ]
  },
  {
   "cell_type": "code",
   "execution_count": 164,
   "id": "7b7ab61a-0b5e-4b1d-811a-730b8921b875",
   "metadata": {},
   "outputs": [
    {
     "ename": "TypeError",
     "evalue": "Inputs must be real numers",
     "output_type": "error",
     "traceback": [
      "\u001b[31m---------------------------------------------------------------------------\u001b[39m",
      "\u001b[31mTypeError\u001b[39m                                 Traceback (most recent call last)",
      "\u001b[36mCell\u001b[39m\u001b[36m \u001b[39m\u001b[32mIn[164]\u001b[39m\u001b[32m, line 5\u001b[39m\n\u001b[32m      3\u001b[39m         \u001b[38;5;28;01mraise\u001b[39;00m \u001b[38;5;167;01mTypeError\u001b[39;00m(\u001b[33m'\u001b[39m\u001b[33mInputs must be real numers\u001b[39m\u001b[33m'\u001b[39m)\n\u001b[32m      4\u001b[39m     \u001b[38;5;28;01mreturn\u001b[39;00m x+y\n\u001b[32m----> \u001b[39m\u001b[32m5\u001b[39m \u001b[43madd\u001b[49m\u001b[43m(\u001b[49m\u001b[43m[\u001b[49m\u001b[32;43m2\u001b[39;49m\u001b[43m]\u001b[49m\u001b[43m,\u001b[49m\u001b[33;43m'\u001b[39;49m\u001b[33;43ma\u001b[39;49m\u001b[33;43m'\u001b[39;49m\u001b[43m)\u001b[49m\n",
      "\u001b[36mCell\u001b[39m\u001b[36m \u001b[39m\u001b[32mIn[164]\u001b[39m\u001b[32m, line 3\u001b[39m, in \u001b[36madd\u001b[39m\u001b[34m(x, y)\u001b[39m\n\u001b[32m      1\u001b[39m \u001b[38;5;28;01mdef\u001b[39;00m\u001b[38;5;250m \u001b[39m\u001b[34madd\u001b[39m(x,y):\n\u001b[32m      2\u001b[39m     \u001b[38;5;28;01mif\u001b[39;00m \u001b[38;5;129;01mnot\u001b[39;00m \u001b[38;5;28misinstance\u001b[39m(x,(\u001b[38;5;28mint\u001b[39m,\u001b[38;5;28mfloat\u001b[39m)) \u001b[38;5;129;01mor\u001b[39;00m \u001b[38;5;28misinstance\u001b[39m(y,(\u001b[38;5;28mint\u001b[39m,\u001b[38;5;28mfloat\u001b[39m)):\n\u001b[32m----> \u001b[39m\u001b[32m3\u001b[39m         \u001b[38;5;28;01mraise\u001b[39;00m \u001b[38;5;167;01mTypeError\u001b[39;00m(\u001b[33m'\u001b[39m\u001b[33mInputs must be real numers\u001b[39m\u001b[33m'\u001b[39m)\n\u001b[32m      4\u001b[39m     \u001b[38;5;28;01mreturn\u001b[39;00m x+y\n",
      "\u001b[31mTypeError\u001b[39m: Inputs must be real numers"
     ]
    }
   ],
   "source": [
    "def add(x,y):\n",
    "    if not isinstance(x,(int,float)) or isinstance(y,(int,float)):\n",
    "        raise TypeError('Inputs must be real numers')\n",
    "    return x+y\n",
    "#add([2],'a')"
   ]
  },
  {
   "cell_type": "markdown",
   "id": "fce46510-35b8-4a84-875f-e4bd0f5287d3",
   "metadata": {},
   "source": [
    "## ex 3\n"
   ]
  },
  {
   "cell_type": "code",
   "execution_count": 173,
   "id": "6958cd84-b4f5-4684-9b01-c98481c603a8",
   "metadata": {},
   "outputs": [
    {
     "name": "stdout",
     "output_type": "stream",
     "text": [
      "Is indide an edge\n"
     ]
    },
    {
     "data": {
      "text/plain": [
       "True"
      ]
     },
     "execution_count": 173,
     "metadata": {},
     "output_type": "execute_result"
    }
   ],
   "source": [
    "def my_inside_triangle(p:tuple,triangle=[(0,0),(1,0),(1,1)]):\n",
    "    \"\"\"\n",
    "    returns true if the poin is inside the triangle, in other case false\n",
    "    input: \n",
    "        'p' is a point R2 \n",
    "        'triangle' is a list 3 points make the triangle\n",
    "    output: boolean value\n",
    "    \"\"\"\n",
    "    def distance(p1,p2):\n",
    "        x1,y1=p1\n",
    "        x2,y2=p2\n",
    "        return math.sqrt( (x2-x1)**2 + (y2-y1)**2 )\n",
    "    def dot_product(V,U):\n",
    "        v1,v2 = V\n",
    "        u1,u2 = U\n",
    "        return u1*v1+u2*v2\n",
    "    def projection_V_over_U(V,U):\n",
    "        #return the scalar turns U into the shadow of V\n",
    "        k = ( dot_product(V,U) / dot_product(U,U))\n",
    "        return k\n",
    "    def vector_from_p2q(p1,p2):\n",
    "        x1,y1 = p1\n",
    "        x2,y2 = p2\n",
    "        return ( x2-x1 , y2-y1)\n",
    "    def my_area_triangle(my_triangle):\n",
    "        p1,p2,p3 =my_triangle[0],my_triangle[1],my_triangle[2]\n",
    "        base = distance(p1,p2)\n",
    "        \n",
    "        #calculate the vector from p1 -> p2\n",
    "        U = vector_from_p2q (p1 , p2)\n",
    "        ##calculate the vector from p1 -> p3\n",
    "        V = vector_from_p2q (p1 , p3)\n",
    "        \n",
    "        def my_height_triangle():\n",
    "            k = projection_V_over_U(V,U)\n",
    "            u1,u2 = U\n",
    "            point_under_shadow = ( u1*k , u2*k )\n",
    "            return distance( point_under_shadow , p3 )\n",
    "        \n",
    "        height = my_height_triangle()\n",
    "        return (base * height)\n",
    "\n",
    "    p1,p2,p3 =triangle\n",
    "    v1 = vector_from_p2q(p1,p2)\n",
    "    v2 = vector_from_p2q(p1,p3)\n",
    "    v3 = vector_from_p2q(p2,p3)\n",
    "    if dot_product( v1 , v2 ) == 0 or dot_product( v1 , v3 ) == 0 or dot_product( v2 , v3 ) == 0:\n",
    "        print('Is inside an edge')\n",
    "        return True\n",
    "    else:\n",
    "        #using default\n",
    "        t1 = my_area_triangle([(0,0),(1,0),p])\n",
    "        t2 = my_area_triangle([(0,0),(1,1),p])\n",
    "        t3 = my_area_triangle([(1,1),(1,0),p])\n",
    "        return my_area_triangle(triangle) ==  t1 + t2 + t3\n",
    "my_inside_triangle((1,1))  \n"
   ]
  },
  {
   "cell_type": "code",
   "execution_count": 9,
   "id": "39e72703-3b27-4a02-a7e6-cfcfcc3eabae",
   "metadata": {},
   "outputs": [
    {
     "data": {
      "text/plain": [
       "[1, 0, 0, 0, 0, 0, 0, 0, 0, 0]"
      ]
     },
     "execution_count": 9,
     "metadata": {},
     "output_type": "execute_result"
    }
   ],
   "source": [
    "def make_size_10(l:list):\n",
    "    if len(l)>10:\n",
    "        return l[:10:1]\n",
    "    else:\n",
    "        return l+[0 for _ in range (len(l),10)]\n",
    "make_size_10([1,12,12,1,2,12,12,12,12,12,12,12,21,132])\n",
    "f=lambda l: l+[0 for i in range(len(l),10)]\n",
    "make_size_10([1,12])\n",
    "f([1])"
   ]
  },
  {
   "cell_type": "code",
   "execution_count": 9,
   "id": "addc86bc-bd7a-46bf-83fc-42cd398e3ea6",
   "metadata": {},
   "outputs": [
    {
     "data": {
      "text/plain": [
       "0"
      ]
     },
     "execution_count": 9,
     "metadata": {},
     "output_type": "execute_result"
    }
   ],
   "source": [
    "import numpy as np\n",
    "def my_make_size_10(arr: list):\n",
    "    \"\"\"\n",
    "    make size 10 of an numpy array, adding 0 or slicing.\n",
    "    input: 1-dimension array\n",
    "    \"\"\"\n",
    "    n = len(arr)\n",
    "    mask = np.arange(10) < n\n",
    "    return 0#np.where(mask,arr[:10],0)\n",
    "my_make_size_10([10,2])"
   ]
  },
  {
   "cell_type": "code",
   "execution_count": 15,
   "id": "781e3984-7d77-4f14-aabe-69897555b6e6",
   "metadata": {},
   "outputs": [
    {
     "data": {
      "text/plain": [
       "[1, 2]"
      ]
     },
     "execution_count": 15,
     "metadata": {},
     "output_type": "execute_result"
    }
   ],
   "source": [
    "def my_make_size10(x):\n",
    "    \"\"\"\n",
    "    make size 10 of an numpy array, adding 0 or slicing.\n",
    "    input: 1-dimension array\n",
    "    \"\"\"\n",
    "    return np.pad(x[:10], (0, max(0, 10 - len(x))), 'constant')\n",
    "my_make_size10([1,2]) "
   ]
  },
  {
   "cell_type": "code",
   "execution_count": 25,
   "id": "6fcebd35-e45c-40fc-bece-81ece737e36a",
   "metadata": {},
   "outputs": [
    {
     "name": "stdout",
     "output_type": "stream",
     "text": [
      "((np.float64(1.0), np.float64(-3.0)), 2)\n"
     ]
    }
   ],
   "source": [
    "\n",
    "det = lambda a, b, c: b**2 - 4*a*c\n",
    "cuadratic = lambda a, b, c: ( ( -b + np.sqrt(det(a,b,c) ))/ 2*a , ( -b - np.sqrt(det(a,b,c) ))/ 2*a )\n",
    "\n",
    "q = lambda a, b, c: ((-b/2*a,-b/2*a),1) if det(a,b,c) == 0 else ((cuadratic(a,b,c),2) if det(a,b,c) > 0 else (cuadratic(a,b,c),-2))\n",
    "print(q(1,2,-3))"
   ]
  },
  {
   "cell_type": "code",
   "execution_count": 32,
   "id": "5f73ce00-c1f9-4b36-b7a0-a954c2ed22ec",
   "metadata": {
    "collapsed": true,
    "jupyter": {
     "outputs_hidden": true
    }
   },
   "outputs": [
    {
     "name": "stdout",
     "output_type": "stream",
     "text": [
      "Help on method_descriptor:\n",
      "\n",
      "isdigit(self, /) unbound builtins.str method\n",
      "    Return True if the string is a digit string, False otherwise.\n",
      "\n",
      "    A string is a digit string if all characters in the string are digits and there\n",
      "    is at least one character in the string.\n",
      "\n"
     ]
    },
    {
     "data": {
      "text/plain": [
       "\u001b[31mInit signature:\u001b[39m range(self, /, *args, **kwargs)\n",
       "\u001b[31mDocstring:\u001b[39m     \n",
       "range(stop) -> range object\n",
       "range(start, stop[, step]) -> range object\n",
       "\n",
       "Return an object that produces a sequence of integers from start (inclusive)\n",
       "to stop (exclusive) by step.  range(i, j) produces i, i+1, i+2, ..., j-1.\n",
       "start defaults to 0, and stop is omitted!  range(4) produces 0, 1, 2, 3.\n",
       "These are exactly the valid indices for a list of 4 elements.\n",
       "When step is given, it specifies the increment (or decrement).\n",
       "\u001b[31mType:\u001b[39m           type\n",
       "\u001b[31mSubclasses:\u001b[39m     "
      ]
     },
     "metadata": {},
     "output_type": "display_data"
    }
   ],
   "source": [
    "zip?\n",
    "range?\n",
    "help(str.isdigit)"
   ]
  },
  {
   "cell_type": "code",
   "execution_count": 47,
   "id": "01bb8d0c-18d6-4bc0-8422-30c70c9c5663",
   "metadata": {},
   "outputs": [
    {
     "ename": "SyntaxError",
     "evalue": "invalid syntax (1150963194.py, line 8)",
     "output_type": "error",
     "traceback": [
      "  \u001b[36mCell\u001b[39m\u001b[36m \u001b[39m\u001b[32mIn[47]\u001b[39m\u001b[32m, line 8\u001b[39m\n\u001b[31m    \u001b[39m\u001b[31mreturn [[math.sin(x) for x in rows if x % 2 == 0 else math.sin(x) ]for rows in m]\u001b[39m\n                                                     ^\n\u001b[31mSyntaxError\u001b[39m\u001b[31m:\u001b[39m invalid syntax\n"
     ]
    }
   ],
   "source": [
    "def my_n_max(l,n):\n",
    "    a = list()\n",
    "    for i in range (n):\n",
    "        a.append(max(l))\n",
    "        l.remove(max(l)) \n",
    "    return a\n",
    "def my_trig_odd(m:list):\n",
    "    return [[math.sin(x) for x in rows if x % 2 == 0  ]for rows in m] \n",
    "my_trig_odd([[1,2,3],[4,5,6],[7,8,9]])"
   ]
  },
  {
   "cell_type": "code",
   "execution_count": 3,
   "id": "78486a12-e60b-48d8-8e2b-95401a7c5481",
   "metadata": {},
   "outputs": [
    {
     "data": {
      "text/plain": [
       "[[18, 30, 48], [1008, 1638, 2646], [424800, 689580, 1114380]]"
      ]
     },
     "execution_count": 3,
     "metadata": {},
     "output_type": "execute_result"
    }
   ],
   "source": [
    "def my_mat_mult(A,B):\n",
    "    \"\"\"\n",
    "    Calculate de multiplication between A, B.\n",
    "    input: \n",
    "        A list of lists 2-dimensional mxk\n",
    "        B list of lists 2-dimensional kxn\n",
    "    output:\n",
    "        C list of lists 2-dimensional mxn\n",
    "    \"\"\"\n",
    "    # determine the sizes\n",
    "    M, N, K =0, len(B),len(A)\n",
    "    for a in A[0]:\n",
    "        M += 1\n",
    "\n",
    "    # compute the multiplication\n",
    "    C=list()\n",
    "    for i in range(M):\n",
    "        row_c = list()\n",
    "        for j in range(N):\n",
    "            c_ij = 0\n",
    "            for k in range(K):\n",
    "                c_ij += A[i][k]*B[k][j]\n",
    "            row_c.append(c_ij)\n",
    "        C.append(row_c)\n",
    "    return C\n",
    "a=[ [1,1,2],[6,24,120],[720,5760,51660] ]\n",
    "b = [ [0,1,1],[2,3,5],[8,13,21] ]\n",
    "\n",
    "my_mat_mult(a,b)"
   ]
  },
  {
   "cell_type": "code",
   "execution_count": 6,
   "id": "ddce6759-40db-4cc9-a987-5d02989e4c95",
   "metadata": {},
   "outputs": [
    {
     "data": {
      "text/plain": [
       "15"
      ]
     },
     "execution_count": 6,
     "metadata": {},
     "output_type": "execute_result"
    }
   ],
   "source": [
    "def my_interest_compound( P0:float, i: float, goal: float ):\n",
    "    \"\"\"\n",
    "    description:\n",
    "        compute de number of years that take the amount P0 \n",
    "        to achieve the goal, with compound interest of i%\n",
    "    output:\n",
    "        an integer represent the number of years needed\n",
    "    \"\"\"\n",
    "\n",
    "    #FORMULA: Pn = (1+i)Pn-1\n",
    "    Pn = P0\n",
    "    years = 0\n",
    "    while Pn < goal:\n",
    "        Pn = Pn * (1 + i) \n",
    "        years += 1\n",
    "    return years\n",
    "my_interest_compound( 1000, 0.05, 2000 )"
   ]
  },
  {
   "cell_type": "code",
   "execution_count": 67,
   "id": "6ab538fb-1633-49ad-87f3-fae7ab9e8f5f",
   "metadata": {},
   "outputs": [
    {
     "data": {
      "text/plain": [
       "9"
      ]
     },
     "execution_count": 67,
     "metadata": {},
     "output_type": "execute_result"
    }
   ],
   "source": [
    "import random as rand\n",
    "#help(rand)\n",
    "def my_monopoly_dices(  ):\n",
    "    \"\"\"\n",
    "    description:\n",
    "        compute the sum of the thrown 2 dices in an game\n",
    "        if two dices have the same value, continue throwing\n",
    "    output:\n",
    "        the sum achieved throwing two dice by a player\n",
    "    \"\"\"\n",
    "    # throws are random\n",
    "    def random_throw():\n",
    "        return rand.randint(1,6),rand.randint(1,6)\n",
    "    \n",
    "    acum = d1 = d2 = 0\n",
    "    while d1 == d2:\n",
    "        d1, d2 = random_throw()\n",
    "        acum = d1 + d2\n",
    "    return acum\n",
    "\n",
    "my_monopoly_dices()"
   ]
  },
  {
   "cell_type": "code",
   "execution_count": 77,
   "id": "a3b8aa3b-c27d-4621-bc6e-7aa33113618c",
   "metadata": {},
   "outputs": [
    {
     "data": {
      "text/plain": [
       "True"
      ]
     },
     "execution_count": 77,
     "metadata": {},
     "output_type": "execute_result"
    }
   ],
   "source": [
    "def my_is_prime( n: int ):\n",
    "    \"\"\"\n",
    "    computation to determine if\n",
    "    whether n (the number) is prime or not\n",
    "    output: boolean value\n",
    "    \"\"\"\n",
    "    pd = n//2\n",
    "    while n % pd == 1 and pd != 1:\n",
    "        pd -= 1\n",
    "    if pd != 1 or n == 1:\n",
    "        return False\n",
    "    else:\n",
    "        return True\n",
    "my_is_prime(7)"
   ]
  },
  {
   "cell_type": "code",
   "execution_count": 81,
   "id": "1f3723df-931e-4ea5-8521-988b47c6c87f",
   "metadata": {},
   "outputs": [],
   "source": [
    "def fib_r ( n: int ):\n",
    "    if n == 1 or n == 2:\n",
    "        return 1\n",
    "    else:\n",
    "        return fib_r ( n-1 ) + fib_r ( n-2 )\n",
    "import numpy as np\n",
    "def fib_l ( n: int ):\n",
    "    memo = np.ones(n)\n",
    "    for i in range (2,n):\n",
    "        memo[i] = memo[i-1] + memo[i-2]\n",
    "    return memo[n-1]\n",
    "def fib_c ( n: int ):\n",
    "    fib_n = 0\n",
    "    f1 = f2 = 1\n",
    "    for i in range (2,n):\n",
    "        fib_n = f1 + f2\n",
    "        f1 = f2\n",
    "        f2 = fib_n\n",
    "    return fib_n\n",
    "#%timeit fib_r ( 25 )\n",
    "#%timeit fib_c ( 25 )\n",
    "#%timeit fib_l ( 25 )\n",
    "import sys \n",
    "#sys.setrecursionlimit(10**5)"
   ]
  },
  {
   "cell_type": "code",
   "execution_count": null,
   "id": "69927518-bd1a-4eea-95fd-a248a90f0403",
   "metadata": {},
   "outputs": [],
   "source": [
    "def my_hanoi( n:int ) :\n",
    "    \"\"\"\n",
    "    compute the movements needed to move the stack\n",
    "    of n rods from A to C following:\n",
    "        1 rod move per time\n",
    "        the rod moved must be on the top\n",
    "        bigger one c ant be on the top smaller\n",
    "    \"\"\"\n",
    "    A = [0 for _ in range (n)]\n",
    "    B = list()\n",
    "    C = list() \n",
    "    def helper ( start, obj, aux, n_rods):\n",
    "        if n_rods == 1:\n",
    "            obj.append(start.pop())\n",
    "            return 1\n",
    "        else:\n",
    "            s1 = helper( start, aux, obj, n_rods-1)\n",
    "            obj.append(start.pop())\n",
    "            s2 = helper( aux, obj, start, n_rods-1 )\n",
    "            return s1 + s2 + 1\n",
    "\n",
    "    return helper( A, C, B, n ), A, B, C\n",
    "\n",
    "%timeit my_hanoi(30)"
   ]
  },
  {
   "cell_type": "code",
   "execution_count": 111,
   "id": "fec1feff-e5dc-4fec-8a86-e7e984ec0616",
   "metadata": {
    "collapsed": true,
    "jupyter": {
     "outputs_hidden": true
    }
   },
   "outputs": [
    {
     "data": {
      "text/plain": [
       "[1,\n",
       " 2,\n",
       " 3,\n",
       " 12,\n",
       " 12,\n",
       " 12,\n",
       " 12,\n",
       " 12,\n",
       " 12,\n",
       " 12,\n",
       " 12,\n",
       " 31,\n",
       " 31,\n",
       " 134,\n",
       " 312,\n",
       " 3123,\n",
       " 12312,\n",
       " 23231,\n",
       " 231231]"
      ]
     },
     "execution_count": 111,
     "metadata": {},
     "output_type": "execute_result"
    }
   ],
   "source": [
    "def quicksort (l:list):\n",
    "    if len(l) <= 1:\n",
    "        # sort a list with 1 element is easy, actually is done\n",
    "        sorted_list = l.copy()\n",
    "    else: \n",
    "        # sort a list is difficul, so we divide. Solve simpler solution and group them\n",
    "        smaller = list()\n",
    "        same = list()\n",
    "        bigger = list()\n",
    "        #we divide the list base an 'pivot'\n",
    "        pivot = l[0]\n",
    "        for x in l:\n",
    "            if x < pivot:\n",
    "                smaller.append(x)\n",
    "            elif x == pivot:\n",
    "                same.append(x)\n",
    "            else:\n",
    "                bigger.append(x)\n",
    "        sorted_list = quicksort(smaller) + same + quicksort(bigger)\n",
    "    return sorted_list\n",
    "quicksort([2,12,12,12,12,12,231231,3,12312,31,31,312,3123,12,12,23231,1,134,12])"
   ]
  },
  {
   "cell_type": "code",
   "execution_count": 132,
   "id": "964545a7-bb18-492c-88c3-90be7803af37",
   "metadata": {},
   "outputs": [
    {
     "data": {
      "text/plain": [
       "[1, 26, 99, 244, 485]"
      ]
     },
     "execution_count": 132,
     "metadata": {},
     "output_type": "execute_result"
    }
   ],
   "source": [
    "def my_chebyshev_pol1( N:int, X:list ):\n",
    "    \"\"\"\n",
    "    description:\n",
    "        compute the chebyshev nth-poliniomial of elements in x\n",
    "        chebyshev polinomial, has 2 kinds of polinomial, this is 1-kind\n",
    "    output: \n",
    "        Y an list where the i-th value is the i-th X's value\n",
    "        evalueted with chebyshev polinomial kind 1\n",
    "    \"\"\"\n",
    "    def T_n( x: int, n:int ):\n",
    "        # Recurrence formula\n",
    "        if n == 0:\n",
    "            return 1\n",
    "        elif n == 1:  \n",
    "            return x\n",
    "        else:\n",
    "            return ( 2*x * T_n( x, n-1 ) - T_n( x, n-2 ) ) \n",
    "        \n",
    "    return [ T_n(x, N) for x in X ]\n",
    "my_chebyshev_pol1(3,[1,2,3,4,5])"
   ]
  },
  {
   "cell_type": "code",
   "execution_count": 150,
   "id": "309adae3-9b93-4f33-9173-48bef9c13236",
   "metadata": {},
   "outputs": [
    {
     "data": {
      "text/plain": [
       "125"
      ]
     },
     "execution_count": 150,
     "metadata": {},
     "output_type": "execute_result"
    }
   ],
   "source": [
    "def my_ackerman( m:int, n:int):\n",
    "    if m == 0:\n",
    "        return n + 1\n",
    "    if m > 0 and n == 0:\n",
    "        return my_ackerman( m-1, 1 )\n",
    "    \n",
    "    return my_ackerman( m-1, my_ackerman( m, n-1 ) )\n",
    "\n",
    "my_ackerman( 3,4 )"
   ]
  },
  {
   "cell_type": "code",
   "execution_count": 221,
   "id": "d9da99a2-dde9-4b12-a883-2788c96f7c5c",
   "metadata": {},
   "outputs": [],
   "source": [
    "def my_choose_k ( N: int, K:int ):\n",
    "    #Compute the number of ways choose k objects fromo n objects\n",
    "    def c(n,k):\n",
    "        if n == 0 or k == 0:\n",
    "            return 1\n",
    "        if k == 1:\n",
    "            return n\n",
    "        if n == k:\n",
    "            return 1\n",
    "        return c(n-1,k)+c(n-1,k-1)\n",
    "    return c(N,K)"
   ]
  },
  {
   "cell_type": "code",
   "execution_count": 199,
   "id": "a1a86700-0cad-4a90-9554-931f52ead511",
   "metadata": {},
   "outputs": [
    {
     "data": {
      "text/plain": [
       "[50.0, 20.0, 1.0, 1.0, 0.25, 0.1, 0.05, 0.01, 0.01, 0.01]"
      ]
     },
     "execution_count": 199,
     "metadata": {},
     "output_type": "execute_result"
    }
   ],
   "source": [
    "def my_change( cost:float, paid: float):\n",
    "    \n",
    "    denomination = [ 0.01, 0.05, 0.1, 0.25, 1, 5, 10, 20, 50, 100 ]\n",
    "    D = [int(x*100) for x in denomination]\n",
    "    n = len(denomination)\n",
    "    def calc_change( remainder: int , index):\n",
    "        change = list()\n",
    "        max_value = D[index]\n",
    "        if index == -1:\n",
    "            return []\n",
    "        if max_value <= remainder:\n",
    "            times = remainder // max_value\n",
    "            change = change + [max_value]*times + calc_change( remainder % max_value, index)\n",
    "        else:\n",
    "            change = change + calc_change( remainder , index-1)\n",
    "        return change\n",
    "        \n",
    "    C = calc_change( int(paid*100) - int(cost*100), n-1 )\n",
    "    change = [ x/100 for x in C ]\n",
    "    return change\n",
    "my_change(27.57,100)\n",
    "\n",
    "\n"
   ]
  },
  {
   "cell_type": "code",
   "execution_count": 202,
   "id": "f6cb39b5-0d23-4f1a-b3a8-0120c31ff48e",
   "metadata": {},
   "outputs": [
    {
     "data": {
      "text/plain": [
       "1.6176470588235294"
      ]
     },
     "execution_count": 202,
     "metadata": {},
     "output_type": "execute_result"
    }
   ],
   "source": [
    "def my_nth_app_4_golden_ratio(n):\n",
    "    \"\"\"\n",
    "    description:\n",
    "        Golden ratio is the number phi, an irrational\n",
    "        self-contained in his definition, obvious so useful\n",
    "    outupt:\n",
    "        nth- aprroximation for golden ratio with fibonacci\n",
    "    \"\"\"\n",
    "    return fib_c(n)/fib_c(n-1)\n",
    "my_nth_app_4_golden_ratio(10)"
   ]
  },
  {
   "cell_type": "code",
   "execution_count": 203,
   "id": "689044c5-d030-4d1b-9a06-01697650651a",
   "metadata": {},
   "outputs": [],
   "source": [
    "def gcd( a: int, b: int ):\n",
    "    if a % b == 0:\n",
    "        return b\n",
    "    else:\n",
    "        return gcd ( b, a % b )"
   ]
  },
  {
   "cell_type": "code",
   "execution_count": 226,
   "id": "f3c3b52e-e333-4d3d-851a-64590311f902",
   "metadata": {},
   "outputs": [
    {
     "data": {
      "text/plain": [
       "[1, 6, 15, 20, 15, 6, 1]"
      ]
     },
     "execution_count": 226,
     "metadata": {},
     "output_type": "execute_result"
    }
   ],
   "source": [
    "def my_pascal_triangle( m: int ):\n",
    "    #compute the m-th row in the pascal triangle\n",
    "    if m == 1:\n",
    "        return [1]\n",
    "    row = list()\n",
    "    for k in range (0,m+1):\n",
    "        row.append(my_choose_k (m,k))\n",
    "    return row\n",
    "my_pascal_triangle(6)"
   ]
  },
  {
   "cell_type": "code",
   "execution_count": 231,
   "id": "578053ed-798a-4709-baff-8275560e5cb0",
   "metadata": {},
   "outputs": [
    {
     "data": {
      "text/plain": [
       "[[0, 0, 0, 0, 0],\n",
       " [0, 0, 0, 0, 0],\n",
       " [0, 0, 1, 1, 0],\n",
       " [0, 0, 0, 1, 0],\n",
       " [0, 0, 0, 0, 0]]"
      ]
     },
     "execution_count": 231,
     "metadata": {},
     "output_type": "execute_result"
    }
   ],
   "source": [
    "def my_spiral(n: int):\n",
    "    # COmputes en spiral matrix of ones\n",
    "    M = [[0]*n for _ in range (n)]\n",
    "    def move(pos: (int, int), t: int, direction: int):\n",
    "        #move and write one 't' times to left from actual position \n",
    "        i,j = pos\n",
    "        if direction == 1:\n",
    "            #right\n",
    "            for k in range(j, j+t):\n",
    "                M[i][k] = 1      \n",
    "            return (i,j+t)\n",
    "        elif direction == 2:\n",
    "            #down\n",
    "            for k in range(i, i+t):\n",
    "                M[k][j] = 1\n",
    "            return (i+t,j)\n",
    "        elif direction == 3:\n",
    "            #left\n",
    "            for k in range(j, j-t):\n",
    "                M[i][k] = 1\n",
    "            return (i,j-t)\n",
    "        else:\n",
    "            #up\n",
    "            for k in range(i, i-t):\n",
    "                M[k][j] = 1\n",
    "            return (i-t,j)\n",
    "            \n",
    "            \n",
    "    \n",
    "    pos = (n//2,n//2)\n",
    "    times = 1\n",
    "    for i in range (1,4+1):\n",
    "        pos = move( pos, times, i)\n",
    "        times += 1\n",
    "    return M\n",
    "my_spiral(5)"
   ]
  }
 ],
 "metadata": {
  "kernelspec": {
   "display_name": "Python (pdvenv)",
   "language": "python",
   "name": "dpvenv"
  },
  "language_info": {
   "codemirror_mode": {
    "name": "ipython",
    "version": 3
   },
   "file_extension": ".py",
   "mimetype": "text/x-python",
   "name": "python",
   "nbconvert_exporter": "python",
   "pygments_lexer": "ipython3",
   "version": "3.13.7"
  }
 },
 "nbformat": 4,
 "nbformat_minor": 5
}
