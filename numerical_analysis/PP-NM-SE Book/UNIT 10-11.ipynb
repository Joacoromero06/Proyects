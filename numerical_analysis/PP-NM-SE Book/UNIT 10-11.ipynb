{
 "cells": [
  {
   "cell_type": "markdown",
   "id": "385d6626-61ff-444a-a130-df4efd72efae",
   "metadata": {
    "jp-MarkdownHeadingCollapsed": true
   },
   "source": [
    "# GOOG PRACTICE PROGRAMMING"
   ]
  },
  {
   "cell_type": "markdown",
   "id": "fe9b167a-2f88-4c65-962f-82763efbf51d",
   "metadata": {},
   "source": [
    "## PLANNING\n",
    "## COMMENTING\n",
    "## TESTING\n",
    "## DEBUGGING\n",
    "## FROM TOP -> BOTTOM, FROM BOTTOM -> TOP"
   ]
  },
  {
   "cell_type": "markdown",
   "id": "faa46161-4be4-4eaf-a835-3e82eee542d0",
   "metadata": {
    "jp-MarkdownHeadingCollapsed": true
   },
   "source": [
    "# READING WRITING .TXT"
   ]
  },
  {
   "cell_type": "code",
   "execution_count": 12,
   "id": "819ed7ee-961a-4a1a-b868-9cd68f63a816",
   "metadata": {
    "collapsed": true,
    "jupyter": {
     "outputs_hidden": true
    },
    "scrolled": true
   },
   "outputs": [
    {
     "ename": "SyntaxError",
     "evalue": "unterminated string literal (detected at line 2) (2575870646.py, line 2)",
     "output_type": "error",
     "traceback": [
      "  \u001b[36mCell\u001b[39m\u001b[36m \u001b[39m\u001b[32mIn[12]\u001b[39m\u001b[32m, line 2\u001b[39m\n\u001b[31m    \u001b[39m\u001b[31mf.write('Linea testin \\n)\u001b[39m\n            ^\n\u001b[31mSyntaxError\u001b[39m\u001b[31m:\u001b[39m unterminated string literal (detected at line 2)\n"
     ]
    }
   ],
   "source": [
    "f = open('test.txt','w')\n",
    "n = 4\n",
    "for i in range(n):\n",
    "    f.write(f'Linea {i}. \\n')\n",
    "f.close()"
   ]
  },
  {
   "cell_type": "code",
   "execution_count": 15,
   "id": "162e0daa-038f-456f-8432-c91db05d56f0",
   "metadata": {},
   "outputs": [],
   "source": [
    "f = open('test.txt','a')\n",
    "# append an line/string to the file\n",
    "f.write('Last Line.')\n",
    "f.close()"
   ]
  },
  {
   "cell_type": "code",
   "execution_count": 17,
   "id": "3b6c2dd2-ba36-46c8-8939-77ef4f08a0c3",
   "metadata": {},
   "outputs": [
    {
     "name": "stdout",
     "output_type": "stream",
     "text": [
      "Linea 0 \n",
      "Linea 1 \n",
      "Linea 2 \n",
      "Linea 3 \n",
      "Last Line.\n"
     ]
    }
   ],
   "source": [
    "f = open('test.txt','r')\n",
    "content = f.read()\n",
    "f.close()\n",
    "print ( content )"
   ]
  },
  {
   "cell_type": "code",
   "execution_count": 18,
   "id": "eb107b3b-9394-47b6-84d2-e869f73ea6da",
   "metadata": {},
   "outputs": [
    {
     "name": "stdout",
     "output_type": "stream",
     "text": [
      "['Linea 0 \\n', 'Linea 1 \\n', 'Linea 2 \\n', 'Linea 3 \\n', 'Last Line.']\n"
     ]
    }
   ],
   "source": [
    "f = open('test.txt','r')\n",
    "content = f.readlines()\n",
    "f.close()\n",
    "print ( content )"
   ]
  },
  {
   "cell_type": "code",
   "execution_count": 20,
   "id": "cf40f890-8b88-48ad-8a0d-9d3380d8517b",
   "metadata": {},
   "outputs": [],
   "source": [
    "import numpy as np\n",
    "arr = np.array( [ [1.20, 3.21, 2.41],[2.31, 2.15, 3.23] ] )\n",
    "np.savetxt( 'my_arr.txt', arr, fmt = '%.2f', header = 'COL 1 COL 2 COL 3' )"
   ]
  },
  {
   "cell_type": "code",
   "execution_count": 21,
   "id": "ecf01765-092a-4ead-b495-65678aeac80a",
   "metadata": {},
   "outputs": [
    {
     "name": "stdout",
     "output_type": "stream",
     "text": [
      "[[1.2  3.21 2.41]\n",
      " [2.31 2.15 3.23]]\n"
     ]
    }
   ],
   "source": [
    "arr2 = np.loadtxt('my_arr.txt')\n",
    "print ( arr2 )"
   ]
  },
  {
   "cell_type": "code",
   "execution_count": null,
   "id": "36779790-5444-4f19-b471-d94ee4489d20",
   "metadata": {},
   "outputs": [],
   "source": [
    "n = 5\n",
    "f = open()\n",
    "for i in range ( n ):\n",
    "    np.random.rand(5)"
   ]
  },
  {
   "cell_type": "markdown",
   "id": "d6d65190-84f6-42e7-98bb-2d42bfff87b6",
   "metadata": {
    "jp-MarkdownHeadingCollapsed": true
   },
   "source": [
    "# READING WRITING .CSV"
   ]
  },
  {
   "cell_type": "code",
   "execution_count": 2,
   "id": "8590aa91-c0c2-4595-81a6-ddf117c1a343",
   "metadata": {},
   "outputs": [],
   "source": [
    "import numpy as np\n",
    "data = np.random.rand(100,5)\n",
    "#np.savetxt?\n",
    "np.savetxt( 'my_csv.csv', data, fmt = '%.2f',  delimiter = ',', header = 'Col 1 Col 2 Col 3 Col 4 Col 5')"
   ]
  },
  {
   "cell_type": "code",
   "execution_count": 54,
   "id": "acac739a-55ac-4bb9-802c-f68522ec759c",
   "metadata": {},
   "outputs": [
    {
     "name": "stdout",
     "output_type": "stream",
     "text": [
      "[[0.42 0.07 0.2  0.09 0.02]\n",
      " [0.18 0.15 0.33 0.61 0.77]\n",
      " [0.82 0.93 0.44 0.74 0.9 ]\n",
      " [0.41 0.56 0.25 0.33 0.74]\n",
      " [0.43 0.81 0.45 0.77 0.65]]\n"
     ]
    }
   ],
   "source": [
    "#np.loadtxt?\n",
    "data = np.loadtxt('my_csv.csv', delimiter = ',')\n",
    "print ( data[ :5, [0,1,2,3,4] ])"
   ]
  },
  {
   "cell_type": "code",
   "execution_count": 4,
   "id": "0044b08c-6460-4c18-8e4e-bddd4f9ae0ea",
   "metadata": {},
   "outputs": [],
   "source": [
    "data = np.savetxt( 'my_text_data_into_cvs.cvs', np.loadtxt('my_arr.txt'),\n",
    "                   delimiter = ',', fmt = '%.2f', header = 'Col 1 Col 2 Col 3 Col4' )\n"
   ]
  },
  {
   "cell_type": "code",
   "execution_count": 12,
   "id": "f3a2e928-30cb-4841-90fe-8e725fbbc1ea",
   "metadata": {},
   "outputs": [],
   "source": [
    "np.savetxt( 'data/random_data3.csv', np.random.random( (20,4) ), \n",
    "            delimiter = ';', fmt = '%.3f', \n",
    "            header = 'Col1, Col2, Col3, Col4' )"
   ]
  },
  {
   "cell_type": "code",
   "execution_count": 14,
   "id": "1760fe21-96dc-457a-8fd0-98a7d0847285",
   "metadata": {
    "collapsed": true,
    "jupyter": {
     "outputs_hidden": true
    }
   },
   "outputs": [
    {
     "name": "stdout",
     "output_type": "stream",
     "text": [
      "[[0.168 0.617 0.795 0.947]\n",
      " [0.965 0.558 0.902 0.952]\n",
      " [0.843 0.992 0.612 0.32 ]\n",
      " [0.74  0.485 0.333 0.243]\n",
      " [0.104 0.316 0.68  0.65 ]\n",
      " [0.082 0.725 0.736 0.794]\n",
      " [0.775 0.133 0.353 0.731]\n",
      " [0.323 0.852 0.54  0.201]\n",
      " [0.148 0.81  0.089 0.558]\n",
      " [0.27  0.253 0.46  0.636]\n",
      " [0.071 0.217 0.567 0.011]\n",
      " [0.948 0.431 0.796 0.431]\n",
      " [0.488 0.93  0.82  0.907]\n",
      " [0.661 0.661 0.316 0.774]\n",
      " [0.792 0.35  0.366 0.41 ]\n",
      " [0.951 0.324 0.427 0.292]\n",
      " [0.06  0.418 0.208 0.599]\n",
      " [0.839 0.873 0.569 0.727]\n",
      " [0.67  0.085 0.925 0.548]\n",
      " [0.642 0.994 0.662 0.053]]\n"
     ]
    }
   ],
   "source": [
    "data_3 = np.loadtxt( 'data/random_data3.csv', delimiter = ';' )\n",
    "print( data_3 )"
   ]
  },
  {
   "cell_type": "markdown",
   "id": "668100e9-0697-49a6-9868-3ef126d21b48",
   "metadata": {
    "jp-MarkdownHeadingCollapsed": true
   },
   "source": [
    "# PÍCKLES FILES"
   ]
  },
  {
   "cell_type": "code",
   "execution_count": 69,
   "id": "94cb699f-5b05-4fac-b488-f5beaa827e2b",
   "metadata": {},
   "outputs": [],
   "source": [
    "import pickle\n",
    "dict_a = {'A': 0, 'B': 1, 'C': 2}\n",
    "\n",
    "#pickle.dump?\n",
    "pickle.dump( dict_a, open('my_dict.pkl','wb') )"
   ]
  },
  {
   "cell_type": "code",
   "execution_count": 70,
   "id": "fff3be13-f0a7-440c-947e-d3fa23de8325",
   "metadata": {},
   "outputs": [
    {
     "name": "stdout",
     "output_type": "stream",
     "text": [
      "{'A': 0, 'B': 1, 'C': 2}\n"
     ]
    }
   ],
   "source": [
    "#pickle.?\n",
    "dict_data = pickle.load( open( 'my_dict.pkl', 'rb' ) )\n",
    "print( dict_data )"
   ]
  },
  {
   "cell_type": "code",
   "execution_count": 16,
   "id": "67492cb5-861e-4bb6-9aed-0490f47c03ca",
   "metadata": {},
   "outputs": [],
   "source": [
    "import pickle \n",
    "pickle.dump( np.loadtxt('data/random_data3.csv', delimiter = ';'), \n",
    "             open('data/my_random_data3.pkl', 'wb')             )"
   ]
  },
  {
   "cell_type": "code",
   "execution_count": 18,
   "id": "c9f303e0-d8c1-4fb8-85a5-49819a6501eb",
   "metadata": {
    "collapsed": true,
    "jupyter": {
     "outputs_hidden": true
    }
   },
   "outputs": [
    {
     "name": "stdout",
     "output_type": "stream",
     "text": [
      "[[0.168 0.617 0.795 0.947]\n",
      " [0.965 0.558 0.902 0.952]\n",
      " [0.843 0.992 0.612 0.32 ]\n",
      " [0.74  0.485 0.333 0.243]\n",
      " [0.104 0.316 0.68  0.65 ]\n",
      " [0.082 0.725 0.736 0.794]\n",
      " [0.775 0.133 0.353 0.731]\n",
      " [0.323 0.852 0.54  0.201]\n",
      " [0.148 0.81  0.089 0.558]\n",
      " [0.27  0.253 0.46  0.636]\n",
      " [0.071 0.217 0.567 0.011]\n",
      " [0.948 0.431 0.796 0.431]\n",
      " [0.488 0.93  0.82  0.907]\n",
      " [0.661 0.661 0.316 0.774]\n",
      " [0.792 0.35  0.366 0.41 ]\n",
      " [0.951 0.324 0.427 0.292]\n",
      " [0.06  0.418 0.208 0.599]\n",
      " [0.839 0.873 0.569 0.727]\n",
      " [0.67  0.085 0.925 0.548]\n",
      " [0.642 0.994 0.662 0.053]]\n"
     ]
    }
   ],
   "source": [
    "data_3 = pickle.load( open('data/my_random_data3.pkl', 'rb') )\n",
    "print( data_3 )"
   ]
  },
  {
   "cell_type": "markdown",
   "id": "04035c01-5dfe-46eb-8741-1f0e0c709897",
   "metadata": {},
   "source": [
    "# .JSON FILES"
   ]
  },
  {
   "cell_type": "code",
   "execution_count": 19,
   "id": "67d494ef-ef8e-4174-ab9c-4003d3ac1e15",
   "metadata": {},
   "outputs": [],
   "source": [
    "import json"
   ]
  },
  {
   "cell_type": "code",
   "execution_count": 73,
   "id": "2a60e18d-f393-4057-82af-474c6b668919",
   "metadata": {},
   "outputs": [],
   "source": [
    "import json\n",
    "school = {\n",
    "    'escuela': 'verbum',\n",
    "    'direccion': {\n",
    "        'provincia': 'salta',\n",
    "        'ciudad': 'capital',\n",
    "        'postal': '4400',\n",
    "    }\n",
    "    ,\n",
    "    'alumnos': [\n",
    "        'Bauti',\n",
    "        'Juli',\n",
    "        'Coni'\n",
    "    ]\n",
    "    ,\n",
    "    'array': [1,2,3]\n",
    "}\n",
    "json.dump(school, open('school.json','w'))\n",
    "#json.dump?"
   ]
  },
  {
   "cell_type": "code",
   "execution_count": 77,
   "id": "768f75cc-6973-4c72-9b04-c59f401a4863",
   "metadata": {},
   "outputs": [
    {
     "data": {
      "text/plain": [
       "dict"
      ]
     },
     "execution_count": 77,
     "metadata": {},
     "output_type": "execute_result"
    }
   ],
   "source": [
    "school_data = json.load(open('school.json','r'))\n",
    "type(school_data)"
   ]
  },
  {
   "cell_type": "code",
   "execution_count": 20,
   "id": "40fe4df2-5640-4136-8119-7087a7038b8e",
   "metadata": {},
   "outputs": [],
   "source": [
    "graph = {\n",
    "    '0': [1,2,3],\n",
    "    '1': [4,2],\n",
    "    '2': [1],\n",
    "    '3': [0],\n",
    "    '4': [1,2,3]\n",
    "}\n",
    "json.dump( my_graph, open( 'data/my_graph.json','w' ) )"
   ]
  },
  {
   "cell_type": "code",
   "execution_count": 21,
   "id": "4af7a3e4-912d-4ed6-a2cb-f6642ca9dd41",
   "metadata": {},
   "outputs": [
    {
     "name": "stdout",
     "output_type": "stream",
     "text": [
      "{'0': [1, 2, 3], '1': [4, 2], '2': [1], '3': [0], '4': [1, 2, 3]}\n"
     ]
    }
   ],
   "source": [
    "my_graph = json.load( open('data/my_graph.json', 'r') )\n",
    "print( my_graph )"
   ]
  },
  {
   "cell_type": "code",
   "execution_count": 34,
   "id": "b0a61405-16fd-4b23-b0c1-72b408196707",
   "metadata": {},
   "outputs": [],
   "source": [
    "data_set = {\n",
    "    'data': [1,2,3]\n",
    "}\n",
    "json.dump( data_set, open( 'data/my_data_set.json','w' ) )"
   ]
  },
  {
   "cell_type": "code",
   "execution_count": 36,
   "id": "11f6f620-d9be-4096-97b4-9832fcb8ef69",
   "metadata": {},
   "outputs": [
    {
     "name": "stdout",
     "output_type": "stream",
     "text": [
      "[1, 2, 3]\n"
     ]
    }
   ],
   "source": [
    "my_data = json.load( open( 'data/my_data_set.json', 'r' ) )\n",
    "print (my_data['data'])"
   ]
  },
  {
   "cell_type": "markdown",
   "id": "991c1924-d91c-4ede-a58e-29599e79eca0",
   "metadata": {},
   "source": [
    "# HIERARCHICAL DATA FORMAT (HDF5)"
   ]
  },
  {
   "cell_type": "code",
   "execution_count": null,
   "id": "ea7d2c9f-ea7f-4f9d-85de-a0fc5d6240a7",
   "metadata": {},
   "outputs": [],
   "source": []
  }
 ],
 "metadata": {
  "kernelspec": {
   "display_name": "Python 3 (ipykernel)",
   "language": "python",
   "name": "python3"
  },
  "language_info": {
   "codemirror_mode": {
    "name": "ipython",
    "version": 3
   },
   "file_extension": ".py",
   "mimetype": "text/x-python",
   "name": "python",
   "nbconvert_exporter": "python",
   "pygments_lexer": "ipython3",
   "version": "3.13.5"
  }
 },
 "nbformat": 4,
 "nbformat_minor": 5
}
