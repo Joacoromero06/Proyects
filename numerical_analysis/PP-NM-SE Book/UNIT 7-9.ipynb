{
 "cells": [
  {
   "cell_type": "markdown",
   "id": "f608894b-e03b-4ba3-9103-5902b474fc20",
   "metadata": {},
   "source": [
    "## POO in python"
   ]
  },
  {
   "cell_type": "code",
   "execution_count": 7,
   "id": "ceba8ce4-e23a-47d6-81d8-b851c2af27c7",
   "metadata": {},
   "outputs": [
    {
     "data": {
      "text/plain": [
       "<Axes: >"
      ]
     },
     "execution_count": 7,
     "metadata": {},
     "output_type": "execute_result"
    },
    {
     "data": {
      "image/png": "[encoded data removed]",
      "text/plain": [
       "<Figure size 640x480 with 1 Axes>"
      ]
     },
     "metadata": {},
     "output_type": "display_data"
    }
   ],
   "source": [
    "import numpy as np\n",
    "import matplotlib.pyplot as plt\n",
    "class Point():\n",
    "    def __init__( self, x, y ):\n",
    "        self.x = x\n",
    "        self.y = y\n",
    "    def distance( self, p ):\n",
    "        return np.sqrt( (self.x - p.x) **2 + (self.y - p.y) **2 )\n",
    "    def plot_point( self ):\n",
    "        fig, ax = plt.subplots()\n",
    "        ax.scatter(self.x, self.y)\n",
    "        return ax\n",
    "p = Point(2,3)\n",
    "p.plot_point()"
   ]
  },
  {
   "cell_type": "markdown",
   "id": "c8c83507-0e93-4284-96f3-b811faefe5d1",
   "metadata": {},
   "source": [
    "## COMPLEXITY IN PYTHON"
   ]
  },
  {
   "cell_type": "code",
   "execution_count": 4,
   "id": "a04c15f3-cbeb-480f-8f08-a4d63887554e",
   "metadata": {},
   "outputs": [
    {
     "name": "stdout",
     "output_type": "stream",
     "text": [
      "CPU times: user 371 ms, sys: 173 μs, total: 371 ms\n",
      "Wall time: 371 ms\n",
      "CPU times: user 2.17 s, sys: 1.99 ms, total: 2.17 s\n",
      "Wall time: 2.19 s\n",
      "364 ms ± 5.4 ms per loop (mean ± std. dev. of 7 runs, 1 loop each)\n",
      "2.07 s ± 5.15 ms per loop (mean ± std. dev. of 7 runs, 1 loop each)\n"
     ]
    }
   ],
   "source": [
    "l = [1]*100000000\n",
    "def slow_sum(l):\n",
    "    s = 0\n",
    "    for x in l:\n",
    "        s += x\n",
    "    return s\n",
    "    \n",
    "%time sum(l)\n",
    "%time slow_sum(l)\n",
    "%timeit sum(l)\n",
    "%timeit slow_sum(l)"
   ]
  },
  {
   "cell_type": "code",
   "execution_count": 4,
   "id": "ac9c65a6-89f9-47db-89e3-273105d86b40",
   "metadata": {},
   "outputs": [
    {
     "name": "stdout",
     "output_type": "stream",
     "text": [
      "1.02 s ± 9.76 ms per loop (mean ± std. dev. of 7 runs, 1 loop each)\n"
     ]
    },
    {
     "data": {
      "text/plain": [
       "Timer unit: 1e-09 s\n",
       "\n",
       "Total time: 2.93615 s\n",
       "File: /tmp/ipykernel_5350/2783479568.py\n",
       "Function: slow at line 2\n",
       "\n",
       "Line #      Hits         Time  Per Hit   % Time  Line Contents\n",
       "==============================================================\n",
       "     2                                           def slow( n: int, m: int ):\n",
       "     3                                               # compute the lazy sum of an numpy array of m random elements n times\n",
       "     4      1001     213699.0    213.5      0.0      for i in range(n):\n",
       "     5      1000   85384686.0  85384.7      2.9          arr = np.random.rand(m)\n",
       "     6      1000     176978.0    177.0      0.0          s = 0\n",
       "     7  10001000 1058485893.0    105.8     36.1          for j in range (m):\n",
       "     8  10000000 1791884077.0    179.2     61.0              s += arr[j]"
      ]
     },
     "metadata": {},
     "output_type": "display_data"
    }
   ],
   "source": [
    "import numpy as np\n",
    "def slow( n: int, m: int ):\n",
    "    # compute the lazy sum of an numpy array of m random elements n times\n",
    "    for i in range(n):\n",
    "        arr = np.random.rand(m)\n",
    "        s = 0\n",
    "        for j in range (m):\n",
    "            s += arr[j]\n",
    "#%prun slow(1000, 10000)\n",
    "%lprun -f slow slow(1000, 10000)\n",
    "%timeit slow(1000, 10000)"
   ]
  },
  {
   "cell_type": "code",
   "execution_count": 2,
   "id": "9de91740-8d0d-4e15-8a40-4b3de9b2b629",
   "metadata": {},
   "outputs": [
    {
     "name": "stdout",
     "output_type": "stream",
     "text": [
      "The line_profiler extension is already loaded. To reload it, use:\n",
      "  %reload_ext line_profiler\n"
     ]
    }
   ],
   "source": [
    "%load_ext line_profiler"
   ]
  },
  {
   "cell_type": "code",
   "execution_count": 8,
   "id": "3fb1ffe4-e04a-4656-a0cb-f915adf6b321",
   "metadata": {},
   "outputs": [
    {
     "name": "stdout",
     "output_type": "stream",
     "text": [
      "348 μs ± 8.52 μs per loop (mean ± std. dev. of 7 runs, 1,000 loops each)\n",
      "4.66 μs ± 44 ns per loop (mean ± std. dev. of 7 runs, 100,000 loops each)\n"
     ]
    }
   ],
   "source": [
    "def my_trimonaccy(n: int):\n",
    "    #complexity: O( sqrt(n) ) < O( 2^logn ) < O(n)\n",
    "    if n < 1:\n",
    "        return 1\n",
    "    return my_trimonaccy(n//2) + my_trimonaccy(n//4)\n",
    "\n",
    "def my_fibonaccy(n: int):\n",
    "    if n == 1 or n == 2 :\n",
    "        return 1\n",
    "    return my_fibonaccy( n-1 ) + my_fibonaccy( n-2 )\n",
    "%timeit my_trimonaccy(100000)\n",
    "%timeit my_fibonaccy(10)\n"
   ]
  },
  {
   "cell_type": "code",
   "execution_count": 5,
   "id": "849c60a9-0801-48ef-95f5-315651edd8ce",
   "metadata": {},
   "outputs": [
    {
     "data": {
      "text/plain": [
       "Timer unit: 1e-09 s\n",
       "\n",
       "Total time: 7.2354e-05 s\n",
       "File: /tmp/ipykernel_3276/298256318.py\n",
       "Function: f_iter1 at line 2\n",
       "\n",
       "Line #      Hits         Time  Per Hit   % Time  Line Contents\n",
       "==============================================================\n",
       "     2                                           def f_iter1 (n: int):\n",
       "     3         1      10194.0  10194.0     14.1      arr = np.zeros(n)\n",
       "     4         1      12582.0  12582.0     17.4      arr[:2] = 1\n",
       "     5        99      11436.0    115.5     15.8      for i in range (2, n):\n",
       "     6        98      37788.0    385.6     52.2          arr[ i ] = arr[ i-1 ] + arr[ i-2 ]\n",
       "     7         1        354.0    354.0      0.5      return arr[ n-1 ]"
      ]
     },
     "metadata": {},
     "output_type": "display_data"
    }
   ],
   "source": [
    "import numpy as np\n",
    "def f_iter1 (n: int):\n",
    "    arr = np.zeros(n)\n",
    "    arr[:2] = 1\n",
    "    for i in range (2, n):\n",
    "        arr[ i ] = arr[ i-1 ] + arr[ i-2 ]\n",
    "    return arr[ n-1 ]\n",
    "def f_iter2 (n: int):\n",
    "    l = [1, 1]\n",
    "    for i in range (2, n):\n",
    "        l.append( l[ i-1 ] + l[ i-2 ])\n",
    "    return l[ n-1 ]\n",
    "\n",
    "#%timeit f_iter1(1000000) error overflow\n",
    "#%timeit f_iter2(1000000) overflow ram\n",
    "%lprun -f f_iter1 f_iter1(100)\n",
    "#%lprun -f f_iter2 f_iter2(100)"
   ]
  },
  {
   "cell_type": "code",
   "execution_count": 3,
   "id": "bba8eb08-207e-42c1-8dcc-811cbae532eb",
   "metadata": {},
   "outputs": [
    {
     "name": "stdout",
     "output_type": "stream",
     "text": [
      "The line_profiler extension is already loaded. To reload it, use:\n",
      "  %reload_ext line_profiler\n"
     ]
    }
   ],
   "source": [
    "%load_ext line_profiler"
   ]
  },
  {
   "cell_type": "code",
   "execution_count": 6,
   "id": "ce2276c1-8787-4e40-8333-01423f5be64c",
   "metadata": {},
   "outputs": [
    {
     "data": {
      "text/plain": [
       "Timer unit: 1e-09 s\n",
       "\n",
       "Total time: 2.635e-05 s\n",
       "File: /tmp/ipykernel_3276/298256318.py\n",
       "Function: f_iter2 at line 8\n",
       "\n",
       "Line #      Hits         Time  Per Hit   % Time  Line Contents\n",
       "==============================================================\n",
       "     8                                           def f_iter2 (n: int):\n",
       "     9         1       1046.0   1046.0      4.0      l = [1, 1]\n",
       "    10        99       9635.0     97.3     36.6      for i in range (2, n):\n",
       "    11        98      15291.0    156.0     58.0          l.append( l[ i-1 ] + l[ i-2 ])\n",
       "    12         1        378.0    378.0      1.4      return l[ n-1 ]"
      ]
     },
     "metadata": {},
     "output_type": "display_data"
    }
   ],
   "source": [
    "%lprun -f f_iter2 f_iter2(100)"
   ]
  },
  {
   "cell_type": "code",
   "execution_count": 7,
   "id": "efdb0aca-2a5b-46a6-89b2-7e5e9a9bd8dc",
   "metadata": {},
   "outputs": [
    {
     "data": {
      "text/plain": [
       "sys.float_info(max=1.7976931348623157e+308, max_exp=1024, max_10_exp=308, min=2.2250738585072014e-308, min_exp=-1021, min_10_exp=-307, dig=15, mant_dig=53, epsilon=2.220446049250313e-16, radix=2, rounds=1)"
      ]
     },
     "execution_count": 7,
     "metadata": {},
     "output_type": "execute_result"
    }
   ],
   "source": [
    "import sys\n",
    "sys.float_info"
   ]
  },
  {
   "cell_type": "code",
   "execution_count": 11,
   "id": "93563d75-bc1e-451f-a85a-d0f258cfff34",
   "metadata": {},
   "outputs": [
    {
     "data": {
      "text/plain": [
       "np.float64(1.9073486328125e-06)"
      ]
     },
     "execution_count": 11,
     "metadata": {},
     "output_type": "execute_result"
    }
   ],
   "source": [
    "import numpy as np\n",
    "np.spacing(1e10)"
   ]
  },
  {
   "cell_type": "code",
   "execution_count": 59,
   "id": "4618814d-6aaa-43de-89fe-749a94926ed8",
   "metadata": {},
   "outputs": [
    {
     "data": {
      "text/plain": [
       "12654"
      ]
     },
     "execution_count": 59,
     "metadata": {},
     "output_type": "execute_result"
    }
   ],
   "source": [
    "import numpy as np\n",
    "def my_bin_2_dec(b):\n",
    "    dec = 0\n",
    "    n = len(b)\n",
    "    for i in range(n):\n",
    "        dec += b[i] * (2** (n-i-1) )\n",
    "    return dec\n",
    "#my_bin_2_dec(np.array([1, 0, 0, 0]))\n",
    "\n",
    "from collections import deque\n",
    "\n",
    "def my_dec_2_bin(d: int):\n",
    "    \"\"\"\n",
    "    Convierte entero decimal a binario\n",
    "    \"\"\"\n",
    "    if d == 0:\n",
    "        return [0]\n",
    "    \n",
    "    # Manejar números negativos\n",
    "    if d < 0:\n",
    "        d = -d  # Trabajar con valor absoluto\n",
    "    \n",
    "    b = deque()\n",
    "    while d > 0:\n",
    "        remainder = d % 2\n",
    "        b.appendleft(remainder)\n",
    "        d = d // 2\n",
    "    return list(b)\n",
    "\n",
    "my_dec_2_bin( my_bin_2_dec([1, 0 ,0, 0]) )\n",
    "my_bin_2_dec( my_dec_2_bin( 12654) )"
   ]
  },
  {
   "cell_type": "code",
   "execution_count": 52,
   "id": "e232810a-d065-4d9d-898e-b092d179e54a",
   "metadata": {},
   "outputs": [
    {
     "data": {
      "text/plain": [
       "[1, 1, 1, 0]"
      ]
     },
     "execution_count": 52,
     "metadata": {},
     "output_type": "execute_result"
    }
   ],
   "source": [
    "from collections import deque\n",
    "\n",
    "def my_bin_adder(b1: list, b2: list):\n",
    "    b_sum = deque()\n",
    "    carry = 0\n",
    "    n1, n2 = len(b1), len(b2)\n",
    "    n_max = max(n1, n2)\n",
    "    i = 0\n",
    "    \n",
    "    while i < n_max or carry != 0:\n",
    "        # Get i-th bit from each binary number\n",
    "        bit_from_b1 = b1[i] if i < n1 else 0\n",
    "        bit_from_b2 = b2[i] if i < n2 else 0\n",
    "        \n",
    "        # Compute sum and carry\n",
    "        sum_dig = bit_from_b1 + bit_from_b2 + carry\n",
    "        carry = sum_dig // 2\n",
    "        sum_dig = sum_dig % 2\n",
    "        \n",
    "        # Add to result (using appendleft builds MSB first)\n",
    "        b_sum.appendleft(sum_dig)\n",
    "        i += 1\n",
    "    \n",
    "    return list(b_sum)\n",
    "\n",
    "my_bin_adder ( [1,0,1,1], [1] )"
   ]
  },
  {
   "cell_type": "code",
   "execution_count": 51,
   "id": "3af20640-4f57-4b8f-94af-0a7af4c2aa5c",
   "metadata": {},
   "outputs": [],
   "source": [
    "from collections import deque\n",
    "\n",
    "def dot_float(d):\n",
    "    \"\"\"\n",
    "    Normaliza un número decimal a la forma 0.d1d2... × 10^e\n",
    "    donde d1 ≠ 0 (primer dígito después del punto decimal no es cero)\n",
    "    \"\"\"\n",
    "    if d == 0:\n",
    "        return 0.0, 0\n",
    "    \n",
    "    # Trabajar con valor absoluto\n",
    "    d = abs(d)\n",
    "    e = 0\n",
    "    \n",
    "    # Si d >= 1, dividir por 10 hasta que esté en [0.1, 1)\n",
    "    while d >= 1:\n",
    "        d /= 10\n",
    "        e += 1\n",
    "    \n",
    "    # Si d < 0.1, multiplicar por 10 hasta que esté en [0.1, 1)\n",
    "    while d < 0.1 and d != 0:\n",
    "        d *= 10\n",
    "        e -= 1\n",
    "    \n",
    "    return d, e"
   ]
  },
  {
   "cell_type": "code",
   "execution_count": 50,
   "id": "cefec7fe-0915-48a2-a0a9-946d9df73627",
   "metadata": {},
   "outputs": [],
   "source": [
    "def my_frac_2_bin(m, lim_iter):\n",
    "    \"\"\"\n",
    "    Convierte la parte fraccionaria decimal a binario\n",
    "    0 <= m < 1\n",
    "    \"\"\"\n",
    "    if m == 0:\n",
    "        return [0] * lim_iter\n",
    "    \n",
    "    b = []\n",
    "    for i in range(lim_iter):\n",
    "        m *= 2\n",
    "        bit_i = 1 if m >= 1 else 0\n",
    "        b.append(bit_i)\n",
    "        if m >= 1:\n",
    "            m -= 1\n",
    "        if m == 0:  # Si llegamos exactamente a 0, completar con ceros\n",
    "            b.extend([0] * (lim_iter - i - 1))\n",
    "            break\n",
    "    return b"
   ]
  },
  {
   "cell_type": "code",
   "execution_count": 49,
   "id": "3777cf04-cd78-46f2-ac64-ff57f324ddfe",
   "metadata": {},
   "outputs": [],
   "source": [
    "def decimal_to_binary_scientific(d):\n",
    "    \"\"\"\n",
    "    Convierte decimal a notación científica binaria: ±1.mantisa × 2^exponente\n",
    "    \"\"\"\n",
    "    if d == 0:\n",
    "        return 0, [0], 0\n",
    "    \n",
    "    sign = 1 if d < 0 else 0\n",
    "    d = abs(d)\n",
    "    \n",
    "    # Convertir a binario y normalizar\n",
    "    if d >= 1:\n",
    "        # Número >= 1: encontrar la posición del bit más significativo\n",
    "        temp = d\n",
    "        exp = 0\n",
    "        while temp >= 2:\n",
    "            temp /= 2\n",
    "            exp += 1\n",
    "        \n",
    "        # Extraer mantisa (parte fraccionaria después del bit implícito)\n",
    "        normalized = d / (2 ** exp)  # Ahora normalized está en [1, 2)\n",
    "        mantisa_decimal = normalized - 1  # Quitar el 1 implícito\n",
    "        \n",
    "    else:\n",
    "        # Número < 1: encontrar el primer bit 1\n",
    "        temp = d\n",
    "        exp = 0\n",
    "        while temp < 1:\n",
    "            temp *= 2\n",
    "            exp -= 1\n",
    "        \n",
    "        mantisa_decimal = temp - 1  # Quitar el 1 implícito\n",
    "    \n",
    "    return sign, mantisa_decimal, exp\n",
    "def my_dec_2_ieee(d: float):\n",
    "    \"\"\"\n",
    "    Convierte un número decimal a representación IEEE 754 de 64 bits\n",
    "    \"\"\"\n",
    "    # Casos especiales\n",
    "    if d == 0:\n",
    "        return [0], [0] * 11, [0] * 52\n",
    "    \n",
    "    # Extraer componentes\n",
    "    sign_bit, mantisa_decimal, exponent = decimal_to_binary_scientific(d)\n",
    "    \n",
    "    # Bit de signo\n",
    "    sign = [sign_bit]\n",
    "    \n",
    "    # Exponente con sesgo (1023 para double precision)\n",
    "    biased_exponent = exponent + 1023\n",
    "    \n",
    "    # Verificar rango válido del exponente\n",
    "    if biased_exponent <= 0:\n",
    "        # Número subnormal o cero\n",
    "        characteristic = [0] * 11\n",
    "        # Para subnormales, ajustar mantisa\n",
    "        mantisa = [0] * 52\n",
    "    elif biased_exponent >= 2047:\n",
    "        # Infinito o overflow\n",
    "        characteristic = [1] * 11\n",
    "        mantisa = [0] * 52\n",
    "    else:\n",
    "        # Número normal\n",
    "        characteristic = my_dec_2_bin(biased_exponent)\n",
    "        # Padding para asegurar 11 bits\n",
    "        while len(characteristic) < 11:\n",
    "            characteristic = [0] + characteristic\n",
    "        \n",
    "        # Mantisa (52 bits)\n",
    "        mantisa = my_frac_2_bin(mantisa_decimal, 52)\n",
    "    \n",
    "    return sign, characteristic, mantisa"
   ]
  },
  {
   "cell_type": "code",
   "execution_count": 55,
   "id": "b48de73e-1387-486c-bd08-b42e455a400e",
   "metadata": {},
   "outputs": [],
   "source": [
    "def ieee_to_decimal(sign, characteristic, mantisa):\n",
    "    \"\"\"\n",
    "    Convierte de IEEE 754 de vuelta a decimal (para verificación)\n",
    "    \"\"\"\n",
    "    # Convertir exponente de binario a decimal\n",
    "    exp_decimal = my_bin_2_dec(characteristic)\n",
    "    \n",
    "    # Convertir mantisa de binario a decimal\n",
    "    mantisa_decimal = my_bin_2_dec(mantisa)\n",
    "    \n",
    "    # Casos especiales\n",
    "    if exp_decimal == 0:\n",
    "        if mantisa_decimal == 0:\n",
    "            result = 0.0  # Cero\n",
    "        else:\n",
    "            # Número subnormal\n",
    "            result = mantisa_decimal * (2 ** -1022)\n",
    "    elif exp_decimal == 2047:\n",
    "        result = float('inf')  # Infinito\n",
    "    else:\n",
    "        # Número normal: (1 + mantisa) × 2^(exp - 1023)\n",
    "        result = (1 + mantisa_decimal) * (2 ** (exp_decimal - 1023))\n",
    "    \n",
    "    return -result if sign[0] == 1 else result"
   ]
  },
  {
   "cell_type": "code",
   "execution_count": 60,
   "id": "3df2d4bc-4e03-4c96-b180-56709076f1ed",
   "metadata": {},
   "outputs": [
    {
     "name": "stdout",
     "output_type": "stream",
     "text": [
      "\n",
      "Número original: 0.0\n",
      "Signo: [0]\n",
      "Exponente: 00000000000\n",
      "Mantisa: 0000000000000000...\n",
      "Número recuperado: 0.0\n",
      "Error: 0.0\n",
      "\n",
      "Número original: 1.0\n",
      "Signo: [0]\n",
      "Exponente: 01111111111\n",
      "Mantisa: 0000000000000000...\n",
      "Número recuperado: 1\n",
      "Error: 0.0\n",
      "\n",
      "Número original: -1.0\n",
      "Signo: [1]\n",
      "Exponente: 01111111111\n",
      "Mantisa: 0000000000000000...\n",
      "Número recuperado: -1\n",
      "Error: 0.0\n",
      "\n",
      "Número original: 0.5\n",
      "Signo: [0]\n",
      "Exponente: 01111111110\n",
      "Mantisa: 0000000000000000...\n",
      "Número recuperado: 0.5\n",
      "Error: 0.0\n",
      "\n",
      "Número original: -0.5\n",
      "Signo: [1]\n",
      "Exponente: 01111111110\n",
      "Mantisa: 0000000000000000...\n",
      "Número recuperado: -0.5\n",
      "Error: 0.0\n",
      "\n",
      "Número original: 3.14159\n",
      "Signo: [0]\n",
      "Exponente: 10000000000\n",
      "Mantisa: 1001001000011111...\n",
      "Número recuperado: 5141264298609886\n",
      "Error: 5141264298609883.0\n",
      "\n",
      "Número original: -3.14159\n",
      "Signo: [1]\n",
      "Exponente: 10000000000\n",
      "Mantisa: 1001001000011111...\n",
      "Número recuperado: -5141264298609886\n",
      "Error: 5141264298609883.0\n",
      "\n",
      "Número original: 1234.5678\n",
      "Signo: [0]\n",
      "Exponente: 10000001001\n",
      "Mantisa: 0011010010100100...\n",
      "Número recuperado: 948313065616226304\n",
      "Error: 9.48313065616225e+17\n"
     ]
    }
   ],
   "source": [
    "# Función de prueba\n",
    "def test_ieee_conversion():\n",
    "    test_numbers = [0.0, 1.0, -1.0, 0.5, -0.5, 3.14159, -3.14159, 1234.5678]\n",
    "    \n",
    "    for num in test_numbers:\n",
    "        print(f\"\\nNúmero original: {num}\")\n",
    "        sign, exp, mantisa = my_dec_2_ieee(num)\n",
    "        print(f\"Signo: {sign}\")\n",
    "        print(f\"Exponente: {''.join(map(str, exp))}\")\n",
    "        print(f\"Mantisa: {''.join(map(str, mantisa[:16]))}...\") # Primeros 16 bits\n",
    "        \n",
    "        # Verificar conversión inversa\n",
    "        recovered = ieee_to_decimal(sign, exp, mantisa)\n",
    "        print(f\"Número recuperado: {recovered}\")\n",
    "        print(f\"Error: {abs(num - recovered) if num != 0 else abs(recovered)}\")\n",
    "\n",
    "if __name__ == \"__main__\":\n",
    "    test_ieee_conversion()"
   ]
  }
 ],
 "metadata": {
  "kernelspec": {
   "display_name": "Python 3 (ipykernel)",
   "language": "python",
   "name": "python3"
  },
  "language_info": {
   "codemirror_mode": {
    "name": "ipython",
    "version": 3
   },
   "file_extension": ".py",
   "mimetype": "text/x-python",
   "name": "python",
   "nbconvert_exporter": "python",
   "pygments_lexer": "ipython3",
   "version": "3.13.5"
  }
 },
 "nbformat": 4,
 "nbformat_minor": 5
}
