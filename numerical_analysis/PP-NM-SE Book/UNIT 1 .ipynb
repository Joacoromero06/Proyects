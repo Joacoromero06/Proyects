{
 "cells": [
  {
   "cell_type": "markdown",
   "id": "49e23f56-5f02-4e48-88da-6e69275e5acd",
   "metadata": {},
   "source": [
    "# Practice UNIT 1 \n"
   ]
  },
  {
   "cell_type": "markdown",
   "id": "32e64a16-453d-4e6f-a4ac-7a5f75b8296f",
   "metadata": {},
   "source": [
    "## ex10: \n",
    "Leap years occur on years that are exactly divisible by 4, unless it is exactly\n",
    "divisible by 100, unless it is divisible by 400. For example, the year 2004 is a leap year, the year\n",
    "1900 is not a leap year, and the year 2000 is a leap year. Compute the number of leap years between\n",
    "the years 1500 and 2010"
   ]
  },
  {
   "cell_type": "code",
   "execution_count": 3,
   "id": "5b921902-7764-41ac-b2e1-d75dba3c5b38",
   "metadata": {},
   "outputs": [
    {
     "name": "stdout",
     "output_type": "stream",
     "text": [
      "number of years bisiestos: 144\n"
     ]
    }
   ],
   "source": [
    "ini=1500\n",
    "now=2100\n",
    "c=0\n",
    "for x in range (ini,now+1):\n",
    "    if x % 4 == 0 and x % 100 != 0 and x % 400 != 0:\n",
    "        c+=1\n",
    "print(f'number of years bisiestos: {c}')"
   ]
  },
  {
   "cell_type": "markdown",
   "id": "0e96361b-c214-44b3-9a5f-da68b86a2206",
   "metadata": {},
   "source": [
    "## ex11:\n",
    " \n",
    "Use Ramanujan’s formula for N = 0 and N = 1 to approximate π. Compare your approximation\n",
    "with Python’s stored value for π. Hint: 0! = 1 by definition."
   ]
  },
  {
   "cell_type": "code",
   "execution_count": 16,
   "id": "5fd0594f-b0bd-4f9c-aa44-39ce0e52c4df",
   "metadata": {},
   "outputs": [
    {
     "name": "stdin",
     "output_type": "stream",
     "text": [
      "Enter the limit of the sum:  1\n"
     ]
    },
    {
     "name": "stdout",
     "output_type": "stream",
     "text": [
      "is ramanujan formula a good aprox :1.2944025893445951e-11 of pi: 3.141592653589793 ?\n"
     ]
    }
   ],
   "source": [
    "import math\n",
    "from math import pi\n",
    "from math import factorial as f\n",
    "from math import sqrt as r\n",
    "x=pi \n",
    "n=int(input('Enter the limit of the sum: '))\n",
    "def sum_ramanujan(n):\n",
    "    s=0\n",
    "    for k in range(n):\n",
    "        s+=( f(4*k) * (1103+26390*k) ) / ( (f(k)**4) * (396**4) )\n",
    "    return s * ( 2*r(2) ) / ( 9801 )\n",
    "print(f'is ramanujan formula a good aprox :{sum_ramanujan(n)} of pi: {pi} ?')"
   ]
  },
  {
   "cell_type": "markdown",
   "id": "88c87509-5b17-4266-b1fd-1d213e93dfc0",
   "metadata": {},
   "source": [
    "# ex12:\n",
    "Compute\n",
    "2\n",
    "sinh for x = 2 using exponentials. Verify that the result is indeed the hyperbolic sin using Python’s\n",
    "function sinh in the math module."
   ]
  },
  {
   "cell_type": "code",
   "execution_count": 19,
   "id": "fea1fd7c-4e11-459a-aa4f-5a7f2c69f876",
   "metadata": {},
   "outputs": [
    {
     "name": "stdout",
     "output_type": "stream",
     "text": [
      "did we get a same result computing two identities 3.626860407847019 and 3.626860407847019\n"
     ]
    }
   ],
   "source": [
    "from math import sinh, cosh, exp\n",
    "aprox_sinh_2 = ( exp(2) - exp(-2)) / 2\n",
    "print(f'did we get a same result computing two identities {aprox_sinh_2} and {sinh(2)}')"
   ]
  },
  {
   "cell_type": "markdown",
   "id": "c9c9710f-851b-4df8-b333-e82ece8dc63b",
   "metadata": {},
   "source": [
    "# ex13:\n",
    "Verify trigonometric identities"
   ]
  },
  {
   "cell_type": "code",
   "execution_count": 27,
   "id": "fd241c1c-abf6-4984-964e-32d7008fb534",
   "metadata": {},
   "outputs": [
    {
     "name": "stdout",
     "output_type": "stream",
     "text": [
      "1.0\n",
      "1.0\n",
      "1.0\n",
      "1.0\n",
      "Variable        Type                          Data/Info\n",
      "-------------------------------------------------------\n",
      "aprox_sinh_2    float                         3.626860407847019\n",
      "c               builtin_function_or_method    <built-in function cos>\n",
      "cos             builtin_function_or_method    <built-in function cos>\n",
      "cosh            builtin_function_or_method    <built-in function cosh>\n",
      "exp             builtin_function_or_method    <built-in function exp>\n",
      "f               builtin_function_or_method    <built-in function factorial>\n",
      "i               int                           6\n",
      "ini             int                           1500\n",
      "math            module                        <module 'math' from '/usr<...>313-x86_64-linux-gnu.so'>\n",
      "n               int                           1\n",
      "notable_angle   float                         0.5235987755982988\n",
      "now             int                           2100\n",
      "pi              float                         3.141592653589793\n",
      "r               builtin_function_or_method    <built-in function sqrt>\n",
      "s               builtin_function_or_method    <built-in function sin>\n",
      "sinh            builtin_function_or_method    <built-in function sinh>\n",
      "sum_ramanujan   function                      <function sum_ramanujan at 0x7fa3283d7880>\n",
      "x               float                         3.141592653589793\n"
     ]
    }
   ],
   "source": [
    "from math import cos as c\n",
    "from math import sin as s\n",
    "from math import pi\n",
    "\n",
    "print( c(pi)**2 + s(pi)**2 )\n",
    "for i in range (2,6+1,2):\n",
    "    notable_angle = pi / i\n",
    "    print( c(notable_angle)**2 + s(notable_angle)**2 )\n",
    "%whos"
   ]
  }
 ],
 "metadata": {
  "kernelspec": {
   "display_name": "Python (pdvenv)",
   "language": "python",
   "name": "dpvenv"
  },
  "language_info": {
   "codemirror_mode": {
    "name": "ipython",
    "version": 3
   },
   "file_extension": ".py",
   "mimetype": "text/x-python",
   "name": "python",
   "nbconvert_exporter": "python",
   "pygments_lexer": "ipython3",
   "version": "3.13.7"
  }
 },
 "nbformat": 4,
 "nbformat_minor": 5
}
