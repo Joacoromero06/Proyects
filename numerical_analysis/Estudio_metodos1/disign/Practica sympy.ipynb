{
 "cells": [
  {
   "cell_type": "code",
   "execution_count": 12,
   "id": "e1b4eaa4",
   "metadata": {},
   "outputs": [],
   "source": [
    "from sympy import sympify, symbols, Symbol\n",
    "from sympy.parsing.sympy_parser import parse_expr, standard_transformations, implicit_multiplication_application\n",
    "\n",
    "expr = sympify(\"x**2 + 3*x - 4\")  # String → Expresión simbólica\n",
    "expr = sympify(\"sin(x) + exp(2*x)\")  # Reconoce funciones matemáticas\n",
    "\n",
    "# uso de formatos que sympy provee para manejar el parseo\n",
    "transformations = (standard_transformations + \n",
    "                   (implicit_multiplication_application,))\n",
    "expr = parse_expr(\"2x + 3\", transformations=transformations)"
   ]
  },
  {
   "cell_type": "code",
   "execution_count": 13,
   "id": "7bd7b3c1",
   "metadata": {},
   "outputs": [
    {
     "data": {
      "text/latex": [
       "$\\displaystyle 2 x + 3$"
      ],
      "text/plain": [
       "2*x + 3"
      ]
     },
     "execution_count": 13,
     "metadata": {},
     "output_type": "execute_result"
    }
   ],
   "source": [
    "expr"
   ]
  },
  {
   "cell_type": "code",
   "execution_count": 3,
   "id": "3e13eb1a",
   "metadata": {},
   "outputs": [],
   "source": [
    "def detect_variables(expr_str: str):\n",
    "    \"\"\" Detecta las variables de una funcion de una variable\"\"\"\n",
    "    expr = sympify(expr_str)\n",
    "    free_symbols = expr.free_symbols\n",
    "\n",
    "    if len ( free_symbols ) == 0:\n",
    "        raise ValueError(\" No hay variables en la expresion \")\n",
    "    elif len( free_symbols ) > 1:\n",
    "        raise ValueError(\" Hay mas de una variable en la expresion \")\n",
    "    else:\n",
    "        return list( free_symbols ) [0]\n"
   ]
  },
  {
   "cell_type": "code",
   "execution_count": 4,
   "id": "f2657376",
   "metadata": {},
   "outputs": [
    {
     "data": {
      "text/latex": [
       "$\\displaystyle r^{2} + r - 2$"
      ],
      "text/plain": [
       "r**2 + r - 2"
      ]
     },
     "execution_count": 4,
     "metadata": {},
     "output_type": "execute_result"
    }
   ],
   "source": [
    "detect_variables(\"r^2 + r-2\")\n",
    "sympify(\"r^2 + r-2\")"
   ]
  },
  {
   "cell_type": "code",
   "execution_count": 5,
   "id": "377559c9",
   "metadata": {},
   "outputs": [
    {
     "data": {
      "text/latex": [
       "$\\displaystyle \\sin{\\left(x \\right)} - \\cos{\\left(x \\right)}$"
      ],
      "text/plain": [
       "sin(x) - cos(x)"
      ]
     },
     "execution_count": 5,
     "metadata": {},
     "output_type": "execute_result"
    }
   ],
   "source": [
    "from sympy import diff\n",
    "\n",
    "x = symbols( 'x' )\n",
    "# clasico\n",
    "expr = sympify ( \"cos(x) + sin(x)\" )\n",
    "df = diff(expr)\n",
    "\n",
    "# uso mas parametros o combinacion\n",
    "dff1 = diff(df)\n",
    "dff2 = diff(expr,x,2)\n",
    "\n",
    "# mas parametrizado\n",
    "n = 3\n",
    "dfn = diff( expr, x, n )\n",
    "\n",
    "dfn\n"
   ]
  },
  {
   "cell_type": "code",
   "execution_count": 6,
   "id": "beac65a6",
   "metadata": {},
   "outputs": [
    {
     "data": {
      "text/latex": [
       "$\\displaystyle 3^{x} + 2$"
      ],
      "text/plain": [
       "3**x + 2"
      ]
     },
     "execution_count": 6,
     "metadata": {},
     "output_type": "execute_result"
    }
   ],
   "source": [
    "expr = sympify(\"3**x + 2\", locals = {'x': x})\n",
    "expr"
   ]
  },
  {
   "cell_type": "code",
   "execution_count": 7,
   "id": "101588d2",
   "metadata": {},
   "outputs": [],
   "source": [
    "def get_derivatives(self, orden: int = 1):\n",
    "    return diff( self.sympy_exp, self.sympy_variable ,orden )"
   ]
  },
  {
   "cell_type": "code",
   "execution_count": 8,
   "id": "9df8d822",
   "metadata": {},
   "outputs": [
    {
     "data": {
      "text/plain": [
       "np.float64(16.30671245259543)"
      ]
     },
     "execution_count": 8,
     "metadata": {},
     "output_type": "execute_result"
    }
   ],
   "source": [
    "from sympy import lambdify\n",
    "import numpy as np\n",
    "\n",
    "x = symbols('x')\n",
    "transformations = (standard_transformations + \n",
    "                   (implicit_multiplication_application,))\n",
    "expr = parse_expr(\"exp x + 3x - sin x\", transformations=transformations)\n",
    "f = lambdify(x, expr, 'numpy')\n",
    "#lambdify?\n",
    "f(2.313)\n"
   ]
  },
  {
   "cell_type": "code",
   "execution_count": 9,
   "id": "d1ee566e",
   "metadata": {},
   "outputs": [
    {
     "data": {
      "text/plain": [
       "Text(0.5, 1.0, '$f(x)=3 x + e^{x} - \\\\sin{\\\\left(x \\\\right)}$')"
      ]
     },
     "execution_count": 9,
     "metadata": {},
     "output_type": "execute_result"
    },
    {
     "data": {
      "image/png": "[encoded data removed]",
      "text/plain": [
       "<Figure size 640x480 with 1 Axes>"
      ]
     },
     "metadata": {},
     "output_type": "display_data"
    }
   ],
   "source": [
    "from sympy import latex\n",
    "\n",
    "expr_str = latex( expr )\n",
    "\n",
    "import matplotlib.pyplot as plt\n",
    "plt.title(f\"$f(x)={expr_str}$\")"
   ]
  },
  {
   "cell_type": "code",
   "execution_count": 14,
   "id": "5c11ab94",
   "metadata": {},
   "outputs": [
    {
     "data": {
      "text/plain": [
       "sympy.sets.sets.Union"
      ]
     },
     "execution_count": 14,
     "metadata": {},
     "output_type": "execute_result"
    }
   ],
   "source": [
    "from sympy import solve, solveset, S, oo\n",
    "from sympy.calculus.util import continuous_domain, is_convex\n",
    "\n",
    "expr = sympify(\"3*x**4 + 2*x -1\")\n",
    "# encontrar simbolicamente si es posible\n",
    "try:\n",
    "    root = solve(expr, x)\n",
    "except:\n",
    "    roots = solve(expr)\n",
    "len(root)\n",
    "domain = continuous_domain(sympify(\"1/x\"), x, S.Reals)\n",
    "type(domain)"
   ]
  },
  {
   "cell_type": "code",
   "execution_count": null,
   "id": "91d82ba3",
   "metadata": {},
   "outputs": [
    {
     "data": {
      "text/plain": [
       "[-6**(2/3)/6,\n",
       " 6**(2/3)/12 - 2**(2/3)*3**(1/6)*I/4,\n",
       " 6**(2/3)/12 + 2**(2/3)*3**(1/6)*I/4]"
      ]
     },
     "execution_count": 34,
     "metadata": {},
     "output_type": "execute_result"
    }
   ],
   "source": [
    "from sympy import Interval\n",
    "interval = Interval(1, 10)\n",
    "convex: bool = is_convex(expr, x, domain=Interval(10, oo))\n",
    "critical_points = solve(diff(expr, x), x)\n",
    "critical_points"
   ]
  },
  {
   "cell_type": "code",
   "execution_count": null,
   "id": "1bd977b2",
   "metadata": {},
   "outputs": [],
   "source": [
    "from sympy import simplify\n",
    "def analyze_fn_newton(f, x):\n",
    "    \"\"\"Analiza si la funcion convergera cuadraticamente con Newton\"\"\"\n",
    "    critical_points = solve(diff(f, x), x)\n",
    "    for p in critical_points:\n",
    "        if f.subs(x, p).equals(0):#subs evalua o substituye\n",
    "            print(f\"La raiz $p$ con Newton converge linealmente\")\n",
    "    "
   ]
  }
 ],
 "metadata": {
  "kernelspec": {
   "display_name": "Python 3",
   "language": "python",
   "name": "python3"
  },
  "language_info": {
   "codemirror_mode": {
    "name": "ipython",
    "version": 3
   },
   "file_extension": ".py",
   "mimetype": "text/x-python",
   "name": "python",
   "nbconvert_exporter": "python",
   "pygments_lexer": "ipython3",
   "version": "3.13.5"
  }
 },
 "nbformat": 4,
 "nbformat_minor": 5
}
