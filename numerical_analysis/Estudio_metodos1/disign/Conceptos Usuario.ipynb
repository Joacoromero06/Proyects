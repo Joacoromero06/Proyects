{
 "cells": [
  {
   "cell_type": "markdown",
   "id": "72a9f210",
   "metadata": {},
   "source": [
    "# Interfaz Interactiva -main- -usuario-"
   ]
  },
  {
   "cell_type": "markdown",
   "id": "f37c3123",
   "metadata": {},
   "source": [
    "## Input Validation"
   ]
  },
  {
   "cell_type": "code",
   "execution_count": null,
   "id": "e0c523cf",
   "metadata": {},
   "outputs": [],
   "source": [
    "def get_function_from_user() -> FunctionHandler:\n",
    "    \"\"\"Obtiene función con validación\"\"\"\n",
    "    while True:\n",
    "        expr_str = input(\"Ingrese la función f(x): \")\n",
    "        try:\n",
    "            f = FunctionHandler(expr_str)\n",
    "            print(f\"✓ Función interpretada: f(x) = {f.latex_str}\")\n",
    "            return f\n",
    "        except Exception as e:\n",
    "            print(f\"✗ Error: {e}\")\n",
    "            print(\"Intente nuevamente. Ejemplo: x**2 - 4\")\n",
    "\n",
    "def get_interval() -> tuple:\n",
    "    \"\"\"Obtiene intervalo [a, b]\"\"\"\n",
    "    while True:\n",
    "        try:\n",
    "            a = float(input(\"Ingrese a: \"))\n",
    "            b = float(input(\"Ingrese b: \"))\n",
    "            if a >= b:\n",
    "                print(\"✗ Error: a debe ser menor que b\")\n",
    "                continue\n",
    "            return (a, b)\n",
    "        except ValueError:\n",
    "            print(\"✗ Error: Ingrese números válidos\")"
   ]
  },
  {
   "cell_type": "markdown",
   "id": "0bb58f7d",
   "metadata": {},
   "source": [
    "## Menu Interactivo"
   ]
  },
  {
   "cell_type": "code",
   "execution_count": null,
   "id": "10937043",
   "metadata": {},
   "outputs": [],
   "source": [
    "def show_menu():\n",
    "    print(\"\\n\" + \"=\"*50)\n",
    "    print(\"    MÉTODOS NUMÉRICOS - BÚSQUEDA DE RAÍCES\")\n",
    "    print(\"=\"*50)\n",
    "    print(\"1. Método de Bisección\")\n",
    "    print(\"2. Método de Newton\")\n",
    "    print(\"3. Método de la Secante\")\n",
    "    print(\"4. Regula Falsi\")\n",
    "    print(\"5. Regula Falsi Modificada\")\n",
    "    print(\"6. Método de Halley\")\n",
    "    print(\"7. Comparar dos métodos\")\n",
    "    print(\"8. Ver gráfico de la función\")\n",
    "    print(\"9. Exportar resultados a Excel\")\n",
    "    print(\"0. Salir\")\n",
    "    print(\"=\"*50)\n",
    "\n",
    "def main_interactive():\n",
    "    print(\"Bienvenido al sistema de búsqueda de raíces\\n\")\n",
    "    \n",
    "    # 1. Obtener función\n",
    "    function = get_function_from_user()\n",
    "    \n",
    "    # 2. Visualizar función\n",
    "    viz = Visualizer(function)\n",
    "    print(\"\\nVisualizando función...\")\n",
    "    viz.plot_function((-10, 10))\n",
    "    \n",
    "    results = []\n",
    "    \n",
    "    while True:\n",
    "        show_menu()\n",
    "        choice = input(\"\\nSeleccione opción: \")\n",
    "        \n",
    "        if choice == '1':\n",
    "            a, b = get_interval()\n",
    "            method = BisectionMethod(function)\n",
    "            result = method.find_root(a, b)\n",
    "            results.append(result)\n",
    "            print_result(result)\n",
    "        \n",
    "        elif choice == '7':\n",
    "            if len(results) < 2:\n",
    "                print(\"Necesita al menos 2 métodos ejecutados\")\n",
    "                continue\n",
    "            compare_results(function, results)\n",
    "        \n",
    "        elif choice == '0':\n",
    "            print(\"¡Hasta luego!\")\n",
    "            break"
   ]
  },
  {
   "cell_type": "markdown",
   "id": "ad257f98",
   "metadata": {},
   "source": [
    "## Progress feedback visual"
   ]
  },
  {
   "cell_type": "code",
   "execution_count": null,
   "id": "c5719d3d",
   "metadata": {},
   "outputs": [],
   "source": [
    "from tqdm import tqdm\n",
    "import time\n",
    "\n",
    "class RootFinder(ABC):\n",
    "    def find_root_with_progress(self, *args, **kwargs):\n",
    "        \"\"\"Versión con barra de progreso\"\"\"\n",
    "        with tqdm(total=self.max_iter, desc=self.__class__.__name__) as pbar:\n",
    "            # Dentro del loop iterativo\n",
    "            for i in range(self.max_iter):\n",
    "                # ... lógica del método ...\n",
    "                pbar.update(1)\n",
    "                pbar.set_postfix({'x': x_n, 'f(x)': f_xn})\n",
    "                \n",
    "                if converged:\n",
    "                    break"
   ]
  }
 ],
 "metadata": {
  "language_info": {
   "name": "python"
  }
 },
 "nbformat": 4,
 "nbformat_minor": 5
}
