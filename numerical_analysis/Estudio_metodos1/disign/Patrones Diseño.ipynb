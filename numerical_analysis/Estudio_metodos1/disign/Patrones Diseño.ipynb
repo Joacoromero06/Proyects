{
 "cells": [
  {
   "cell_type": "markdown",
   "id": "4eb56225",
   "metadata": {},
   "source": [
    "# Patrones de Diseño POO para sistemas"
   ]
  },
  {
   "cell_type": "markdown",
   "id": "e05211a3",
   "metadata": {},
   "source": [
    "## OBSERVER:\n",
    "Define una superclase para aquellas clases que tienen cierto grado de reactividad y son objeto de visualizar su proces"
   ]
  },
  {
   "cell_type": "code",
   "execution_count": null,
   "id": "cb708523",
   "metadata": {},
   "outputs": [],
   "source": [
    "class Observable:\n",
    "    \"\"\"Para notificar cuando algo cambia\"\"\"\n",
    "    def __init__(self):\n",
    "        self._observers = []\n",
    "    \n",
    "    def attach(self, observer):\n",
    "        self._observers.append(observer)\n",
    "    \n",
    "    def notify(self, event_type, data):\n",
    "        for observer in self._observers:\n",
    "            observer.update(event_type, data)\n",
    "\n",
    "# Uso: Notificar cada iteración\n",
    "class RootFinder(Observable):\n",
    "    def _log_iteration(self, ...):\n",
    "        super()._log_iteration(...)\n",
    "        self.notify('iteration_completed', iter_result)\n",
    "\n",
    "# Visualizer puede \"escuchar\"\n",
    "class LiveVisualizer:\n",
    "    def update(self, event_type, data):\n",
    "        if event_type == 'iteration_completed':\n",
    "            # Actualizar gráfico en tiempo real\n",
    "            pass"
   ]
  },
  {
   "cell_type": "markdown",
   "id": "b217175c",
   "metadata": {},
   "source": [
    "## FACTORY CLASSES\n",
    "Util para modularizar el problema de instaciar clases que heredan de un mismo tipo"
   ]
  },
  {
   "cell_type": "code",
   "execution_count": null,
   "id": "14003eca",
   "metadata": {},
   "outputs": [],
   "source": [
    "class MethodFactory:\n",
    "    \"\"\"Crea métodos dinámicamente por nombre\"\"\"\n",
    "    \n",
    "    _methods = {\n",
    "        'bisection': BisectionMethod,\n",
    "        'newton': NewtonMethod,\n",
    "        'secante': SecanteMethod,\n",
    "        'regula_falsi': RegulaFalsiMethod,\n",
    "        'halley': HalleyMethod\n",
    "    }\n",
    "    \n",
    "    @classmethod\n",
    "    def create(cls, method_name: str, function: FunctionHandler, **kwargs):\n",
    "        if method_name not in cls._methods:\n",
    "            raise ValueError(f\"Método {method_name} no existe\")\n",
    "        \n",
    "        return cls._methods[method_name](function, **kwargs)\n",
    "\n",
    "# Uso en interfaz\n",
    "method = MethodFactory.create(user_choice, function_handler)"
   ]
  },
  {
   "cell_type": "markdown",
   "id": "46b65144",
   "metadata": {},
   "source": [
    "## Builder Pattern\n",
    "Es una abstraccion del proceso de ejecucion que se lleva acabo con otras clases\n",
    "Encapsula la construccion de entorno para usar las clases y define la forma de ejecucion asi como su salida"
   ]
  },
  {
   "cell_type": "code",
   "execution_count": null,
   "id": "3762ed88",
   "metadata": {},
   "outputs": [],
   "source": [
    "class ExecutionBuilder:\n",
    "    \"\"\"Construye una ejecución completa paso a paso\"\"\"\n",
    "    \n",
    "    def __init__(self):\n",
    "        self.function = None\n",
    "        self.methods = []\n",
    "        self.tol = 1e-6\n",
    "        self.max_iter = 100\n",
    "    \n",
    "    def with_function(self, expr_str: str):\n",
    "        self.function = FunctionHandler(expr_str)\n",
    "        return self\n",
    "    \n",
    "    def add_method(self, method_name: str, **params):\n",
    "        method = MethodFactory.create(method_name, self.function)\n",
    "        self.methods.append((method, params))\n",
    "        return self\n",
    "    \n",
    "    def set_tolerance(self, tol: float):\n",
    "        self.tol = tol\n",
    "        return self\n",
    "    \n",
    "    def execute(self):\n",
    "        results = []\n",
    "        for method, params in self.methods:\n",
    "            result = method.find_root(**params)\n",
    "            results.append(result)\n",
    "        return results\n",
    "\n",
    "# Uso fluido\n",
    "results = (ExecutionBuilder()\n",
    "           .with_function(\"x**3 - x - 2\")\n",
    "           .add_method('bisection', a=1, b=2)\n",
    "           .add_method('newton', x0=1.5)\n",
    "           .set_tolerance(1e-8)\n",
    "           .execute())"
   ]
  },
  {
   "cell_type": "markdown",
   "id": "3fab9cd9",
   "metadata": {},
   "source": []
  }
 ],
 "metadata": {
  "language_info": {
   "name": "python"
  }
 },
 "nbformat": 4,
 "nbformat_minor": 5
}
