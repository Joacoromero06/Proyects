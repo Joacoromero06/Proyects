{
 "cells": [
  {
   "cell_type": "code",
   "execution_count": 3,
   "id": "ddd01596",
   "metadata": {},
   "outputs": [
    {
     "name": "stdout",
     "output_type": "stream",
     "text": [
      "false\n"
     ]
    }
   ],
   "source": [
    "if []:\n",
    "    print(\"True\")\n",
    "else:\n",
    "    print('false')"
   ]
  },
  {
   "cell_type": "code",
   "execution_count": 4,
   "id": "97e8f013",
   "metadata": {},
   "outputs": [
    {
     "name": "stdout",
     "output_type": "stream",
     "text": [
      "<class 'int'>\n"
     ]
    },
    {
     "data": {
      "text/plain": [
       "-1"
      ]
     },
     "execution_count": 4,
     "metadata": {},
     "output_type": "execute_result"
    }
   ],
   "source": [
    "def signo(x: float):\n",
    "    print(type(x))\n",
    "    return 1 if x > 0 else 0 if x == 0 else -1\n",
    "signo(-1)"
   ]
  },
  {
   "cell_type": "code",
   "execution_count": 12,
   "id": "91aeebc9",
   "metadata": {},
   "outputs": [
    {
     "data": {
      "text/plain": [
       "True"
      ]
     },
     "execution_count": 12,
     "metadata": {},
     "output_type": "execute_result"
    }
   ],
   "source": [
    "1e-12 <= 0.000000000001"
   ]
  },
  {
   "cell_type": "code",
   "execution_count": 1,
   "id": "b5cf154b",
   "metadata": {},
   "outputs": [],
   "source": [
    "if []:    \n",
    "    print('hola')"
   ]
  }
 ],
 "metadata": {
  "kernelspec": {
   "display_name": "pn_env",
   "language": "python",
   "name": "python3"
  },
  "language_info": {
   "codemirror_mode": {
    "name": "ipython",
    "version": 3
   },
   "file_extension": ".py",
   "mimetype": "text/x-python",
   "name": "python",
   "nbconvert_exporter": "python",
   "pygments_lexer": "ipython3",
   "version": "3.13.5"
  }
 },
 "nbformat": 4,
 "nbformat_minor": 5
}
