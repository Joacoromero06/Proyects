{
 "cells": [
  {
   "cell_type": "code",
   "execution_count": null,
   "id": "c2d2a31f",
   "metadata": {},
   "outputs": [
    {
     "data": {
      "text/plain": [
       "'Coefficient.IntegerCoefficient'"
      ]
     },
     "execution_count": 31,
     "metadata": {},
     "output_type": "execute_result"
    }
   ],
   "source": [
    "from fractions import Fraction\n",
    "a = Fraction(1,3)\n",
    "b = Fraction(2.1)\n",
    "b\n",
    "from Coefficient import IntegerCoefficient,RationalCoefficient\n",
    "from Coefficient import Coefficient\n",
    "\n",
    "a = IntegerCoefficient(10)\n",
    "b = RationalCoefficient(2,7)\n",
    "s = str(type(a))\n",
    "s = s.removeprefix('<class \\'__main__.')\n",
    "s = s.removeprefix('<class \\'')\n",
    "s = s.removesuffix('\\'>')\n",
    "\n",
    "\n",
    "#Coefficient._get_dominant_type(a, b)\n"
   ]
  }
 ],
 "metadata": {
  "kernelspec": {
   "display_name": "Python 3",
   "language": "python",
   "name": "python3"
  },
  "language_info": {
   "codemirror_mode": {
    "name": "ipython",
    "version": 3
   },
   "file_extension": ".py",
   "mimetype": "text/x-python",
   "name": "python",
   "nbconvert_exporter": "python",
   "pygments_lexer": "ipython3",
   "version": "3.12.11"
  }
 },
 "nbformat": 4,
 "nbformat_minor": 5
}
