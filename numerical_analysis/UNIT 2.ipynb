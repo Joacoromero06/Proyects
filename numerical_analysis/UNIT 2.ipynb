{
 "cells": [
  {
   "cell_type": "markdown",
   "id": "ac5f2f50-2369-4f03-9353-00a1e8850680",
   "metadata": {},
   "source": [
    "# PYTHON STRINGS"
   ]
  },
  {
   "cell_type": "code",
   "execution_count": 72,
   "id": "a9d3a440-bc48-4922-a3a1-8188d04b6b55",
   "metadata": {},
   "outputs": [
    {
     "name": "stdout",
     "output_type": "stream",
     "text": [
      "[1, 2, 1, 2, 3]\n",
      "<class 'list'>\n",
      "hola soy joaco\n",
      "['h', 'o', 'l', 'a', ' ', 's', 'o', 'y', ' ', 'j', 'o', 'a', 'c', 'o']\n",
      "['hola', 'soy', 'joaco']\n"
     ]
    }
   ],
   "source": [
    "x='hello world'\n",
    "x.count('e')\n",
    "x.upper()\n",
    "x.replace('a','s')\n",
    "\n",
    "x[6:-2]\n",
    "x[1:len(x):2]\n",
    "x[len(x):6:-2]\n",
    "x=[1,2,1,2]\n",
    "x.remove(2)\n",
    "#print(x.remove(2))\n",
    "del x[1]\n",
    "concat=x+[1,2,3]\n",
    "print(concat)\n",
    "5 in concat\n",
    "t=\"hola soy joaco\".split()\n",
    "print (type(t))\n",
    "print (\"hola soy joaco\")\n",
    "print(list(\"hola soy joaco\"))\n",
    "print(list(\"hola soy joaco\".split()))\n",
    " "
   ]
  },
  {
   "cell_type": "markdown",
   "id": "61e0f1f5-90c6-479b-8c3e-890948519205",
   "metadata": {},
   "source": [
    "# PYTHON LIST"
   ]
  },
  {
   "cell_type": "code",
   "execution_count": 101,
   "id": "ef52f6f6-aa86-40aa-9614-05f3abde10bd",
   "metadata": {},
   "outputs": [
    {
     "name": "stdout",
     "output_type": "stream",
     "text": [
      "True\n",
      "{(0, 412), (2, 287), (1, 442), (2, 227), (2, 437), (2, 398), (1, 267), (2, 311), (1, 347), (1, 379)}\n",
      "False\n",
      "{1, 2, 3, 12, 13, 23, 1212}\n",
      "{1, 2, 3}\n",
      "True\n"
     ]
    }
   ],
   "source": [
    "import random as r\n",
    "#help(r)\n",
    "l=list()\n",
    "\n",
    "for i in range(10):\n",
    "    cost=r.randint(100,500)\n",
    "    coin=r.randint(0,2)\n",
    "    pair=coin,cost\n",
    "    l.append(pair)\n",
    "for coin,cost in l:\n",
    "    a=0\n",
    "    #print ((coin,cost))\n",
    "\n",
    "set_=set(l)\n",
    "print(len(set_) == len(l))\n",
    "print(set_)\n",
    "set1={1,12,1,23,13,13,1212,1,12,2,3}\n",
    "set2=set([r.randint(1,3) for _ in range(10)])\n",
    "print(set1 == set2)\n",
    "print(set1.union(set2))\n",
    "print(set1.intersection(set2))\n",
    "print(set2.issubset(set1))"
   ]
  },
  {
   "cell_type": "markdown",
   "id": "0e428b78-7e5b-4ece-afa7-5f0886549251",
   "metadata": {},
   "source": [
    "# PYTHON DICTIONARIES"
   ]
  },
  {
   "cell_type": "code",
   "execution_count": 19,
   "id": "ce7d5422-1f09-4b8e-8278-f3aaea53475c",
   "metadata": {},
   "outputs": [
    {
     "name": "stdout",
     "output_type": "stream",
     "text": [
      "{'key1': 1, 'key2': 2, 'key3': 4, 'key4': 8}\n",
      "4\n",
      "[1, 2, 4, 8]\n",
      "key1\n",
      "key2\n",
      "key3\n",
      "key4\n",
      "4\n"
     ]
    }
   ],
   "source": [
    "dict1={'key1':1, 'key2':2, 'key3':4, 'key4':8}\n",
    "print(dict1)\n",
    "print(dict1['key3'])\n",
    "values=dict1.values()\n",
    "print(list(values))\n",
    "dict1.keys()\n",
    "for x in dict1.keys():\n",
    "    print(x)\n",
    "print(len(dict1))"
   ]
  },
  {
   "cell_type": "code",
   "execution_count": 45,
   "id": "79ecb816-0c8f-4744-b2c0-0e1b28dcb394",
   "metadata": {},
   "outputs": [
    {
     "name": "stdout",
     "output_type": "stream",
     "text": [
      "[1, 5, 2, 3]\n"
     ]
    },
    {
     "data": {
      "text/plain": [
       "['Salta', 'Buenos Aires']"
      ]
     },
     "execution_count": 45,
     "metadata": {},
     "output_type": "execute_result"
    }
   ],
   "source": [
    "school_dict:dict={}\n",
    "school_dict['Salta']='verbum'\n",
    "school_dict['Buenos Aires']='uba'\n",
    " \n",
    "list_tuples=[(1,2),(5,10),(2,1),(3,4)]\n",
    "list_list=[[1,2],[4,10],[2,1],[3,4]]\n",
    "list_tuples=dict(list_tuples)\n",
    "list_list=dict(list_list)\n",
    "'Salta'in school_dict\n",
    "'uba' in school_dict\n",
    "list(list_list)\n",
    "print(list(list_tuples))\n",
    "list(school_dict)"
   ]
  },
  {
   "cell_type": "markdown",
   "id": "a2925ea2-4eb8-4807-8603-53313daf9310",
   "metadata": {},
   "source": [
    "# NUMPY ARRAYS\n"
   ]
  },
  {
   "cell_type": "code",
   "execution_count": 2,
   "id": "77858a66-41ac-4ad5-8993-e1e63726f87a",
   "metadata": {},
   "outputs": [
    {
     "data": {
      "text/plain": [
       "6"
      ]
     },
     "execution_count": 2,
     "metadata": {},
     "output_type": "execute_result"
    }
   ],
   "source": [
    "import numpy as np\n",
    "x=np.array([1,1,2]) \n",
    "y=np.array([[1,1,2],\n",
    "            [6,24,120]])\n",
    "x.shape\n",
    "x.size \n",
    "y.shape\n",
    "y.size"
   ]
  },
  {
   "cell_type": "code",
   "execution_count": 76,
   "id": "dacc3d1c-c518-4883-a079-b9297b6e81c2",
   "metadata": {},
   "outputs": [
    {
     "name": "stdout",
     "output_type": "stream",
     "text": [
      "[1 2 3 4 5 6 7 8 9]\n",
      "[2 4 6]\n",
      "[2.  2.5 3.  3.5]\n",
      "[0.         0.33333333 0.66666667 1.         1.33333333 1.66666667\n",
      " 2.         2.33333333 2.66666667 3.         3.33333333]\n"
     ]
    }
   ],
   "source": [
    "print(np.arange(1,10,1))\n",
    "print(np.arange(2,8,2))\n",
    "print(np.arange(2,4,0.5))\n",
    "print(np.arange(0,3+1/3,1/3))"
   ]
  },
  {
   "cell_type": "code",
   "execution_count": 33,
   "id": "e67e10ae-384b-4bb3-89b2-0fa520756991",
   "metadata": {},
   "outputs": [
    {
     "name": "stdout",
     "output_type": "stream",
     "text": [
      "[1.         1.22222222 1.44444444 1.66666667 1.88888889 2.11111111\n",
      " 2.33333333 2.55555556 2.77777778 3.        ]\n"
     ]
    },
    {
     "data": {
      "text/plain": [
       "array([2.11111111, 2.33333333, 2.55555556, 2.77777778, 3.        ])"
      ]
     },
     "execution_count": 33,
     "metadata": {},
     "output_type": "execute_result"
    }
   ],
   "source": [
    "x=np.linspace(1,3,10)\n",
    "print (x)\n",
    "x[-1::-1]\n",
    "x[5:]"
   ]
  },
  {
   "cell_type": "code",
   "execution_count": 48,
   "id": "fd5cc73b-59cf-49b6-ad46-c4ff5097758e",
   "metadata": {},
   "outputs": [
    {
     "data": {
      "text/plain": [
       "np.int64(120)"
      ]
     },
     "execution_count": 48,
     "metadata": {},
     "output_type": "execute_result"
    }
   ],
   "source": [
    "y[0,:]\n",
    "y[1,-1]\n",
    "#y[:,[0,2]]"
   ]
  },
  {
   "cell_type": "code",
   "execution_count": 63,
   "id": "5828cf20-b53b-47aa-afcd-130fb54e6733",
   "metadata": {},
   "outputs": [
    {
     "data": {
      "text/plain": [
       "array([2.11111111, 1.88888889, 1.66666667])"
      ]
     },
     "execution_count": 63,
     "metadata": {},
     "output_type": "execute_result"
    }
   ],
   "source": [
    "z=np.zeros((3,3))\n",
    "0==z[0,:]\n",
    "np.ones((2,2))\n",
    "np.empty(3)"
   ]
  },
  {
   "cell_type": "code",
   "execution_count": 80,
   "id": "f5143214-a1a7-4d17-89c4-374153807cbe",
   "metadata": {},
   "outputs": [
    {
     "name": "stdout",
     "output_type": "stream",
     "text": [
      "[10  9  0  0  5  6]\n"
     ]
    }
   ],
   "source": [
    "a=np.arange(1,7,1)\n",
    "a[3]=7\n",
    "a[:3]=[10,9,8]\n",
    "a[2:4]=0\n",
    "print(a)"
   ]
  },
  {
   "cell_type": "code",
   "execution_count": 96,
   "id": "01ffc86b-115b-41eb-a82d-95ea74a11e65",
   "metadata": {},
   "outputs": [
    {
     "data": {
      "text/plain": [
       "array([[0.5, 1. ],\n",
       "       [1.5, 2. ]])"
      ]
     },
     "execution_count": 96,
     "metadata": {},
     "output_type": "execute_result"
    }
   ],
   "source": [
    "a=np.array([ np.arange(1,3,1), np.arange(3,5,1) ])\n",
    "a+2==2+a\n",
    "a*2==2*a\n",
    "a**2\n",
    "a/2"
   ]
  },
  {
   "cell_type": "code",
   "execution_count": 100,
   "id": "184d358c-1833-456e-8cdb-de4f57063fea",
   "metadata": {},
   "outputs": [
    {
     "data": {
      "text/plain": [
       "array([[ 1.,  3.],\n",
       "       [ 9., 14.]])"
      ]
     },
     "execution_count": 100,
     "metadata": {},
     "output_type": "execute_result"
    }
   ],
   "source": [
    "b=np.array([ np.arange(1,2,0.5), np.arange(3,4,0.5) ])\n",
    "a+b\n",
    "a/b\n",
    "a*b"
   ]
  },
  {
   "cell_type": "code",
   "execution_count": 105,
   "id": "92161825-b69b-4d02-9ac4-2a03eff62709",
   "metadata": {},
   "outputs": [
    {
     "data": {
      "text/plain": [
       "array([1.41421356, 2.        , 2.82842712])"
      ]
     },
     "execution_count": 105,
     "metadata": {},
     "output_type": "execute_result"
    }
   ],
   "source": [
    "np.sqrt([2,4,8])"
   ]
  },
  {
   "cell_type": "code",
   "execution_count": 198,
   "id": "8b45974e-ce4f-440d-b6ea-7ee71000b951",
   "metadata": {
    "scrolled": true
   },
   "outputs": [
    {
     "name": "stdout",
     "output_type": "stream",
     "text": [
      "[3 3]\n",
      "[1 3 2]\n"
     ]
    }
   ],
   "source": [
    "x=np.array(np.arange(1,7))\n",
    "l=[12,12]+[21,21]\n",
    "a=[i if i>20 else None for i in l]\n",
    "y=np.array([1,2,3,0,2,3])\n",
    "boolean_np=x>y\n",
    "a=y[[True if i % 2 == 0 else False for i in range(6)]]\n",
    "print(y[y>2])\n",
    "print(a)\n",
    "#y?\n"
   ]
  },
  {
   "cell_type": "markdown",
   "id": "f233c19f-2946-410a-9221-9688f43c807c",
   "metadata": {},
   "source": [
    "## ex 4 5 "
   ]
  },
  {
   "cell_type": "code",
   "execution_count": 143,
   "id": "29bbbcf4-27e3-4a10-ace6-fb52c534b935",
   "metadata": {
    "collapsed": true,
    "jupyter": {
     "outputs_hidden": true
    },
    "scrolled": true
   },
   "outputs": [
    {
     "name": "stdout",
     "output_type": "stream",
     "text": [
      "Variable     Type                          Data/Info\n",
      "----------------------------------------------------\n",
      "S            str                           123\n",
      "a            ndarray                       3: 3 elems, type `int64`, 24 bytes\n",
      "b            ndarray                       2x2: 4 elems, type `float64`, 32 bytes\n",
      "boolean_np   ndarray                       6: 6 elems, type `bool`, 6 bytes\n",
      "c            builtin_function_or_method    <built-in function cos>\n",
      "l            list                          n=4\n",
      "math         module                        <module 'math' from '/hom<...>313-x86_64-linux-gnu.so'>\n",
      "np           module                        <module 'numpy' from '/ho<...>kages/numpy/__init__.py'>\n",
      "p            int                           1000\n",
      "r            float                         -4.352168887114958\n",
      "s            float                         -4.940158120464309\n",
      "u            int                           13\n",
      "v            int                           30\n",
      "w            float                         3.3333333333333335\n",
      "x            int                           10\n",
      "y            int                           3\n",
      "z            float                         -0.5440211108893698\n",
      "123.0\n"
     ]
    }
   ],
   "source": [
    "from math import sin as s\n",
    "from math import cos as c\n",
    "x=10;y=3\n",
    "u=x+y;   v=x*y;   w=x/y\n",
    "z=s(x);   r=8*z;   s=5*s(x*y)\n",
    "p=x**y\n",
    "%whos\n",
    "\n",
    "S=\"123\"\n",
    "print(float(S)) "
   ]
  },
  {
   "cell_type": "markdown",
   "id": "47219883-1935-4fea-833d-dd9b68e59f83",
   "metadata": {},
   "source": [
    "## ex 8 - 13"
   ]
  },
  {
   "cell_type": "code",
   "execution_count": 154,
   "id": "94dfdf11-9299-45b3-86e8-3e84f2190e9e",
   "metadata": {},
   "outputs": [
    {
     "name": "stdout",
     "output_type": "stream",
     "text": [
      "[1, 1, 2, 23, 31, 31, 321]\n"
     ]
    },
    {
     "data": {
      "text/plain": [
       "2"
      ]
     },
     "execution_count": 154,
     "metadata": {},
     "output_type": "execute_result"
    }
   ],
   "source": [
    "'python' in 'python is great'\n",
    "'python is great'[10:]\n",
    "a=[1,23,1,31,2,31,321]\n",
    "a.sort(reverse=False)\n",
    "print(a)\n",
    "t=1,2\n",
    "t[1]\n"
   ]
  },
  {
   "cell_type": "markdown",
   "id": "1e6321ed-3274-4662-98ca-e30d5dcb41da",
   "metadata": {},
   "source": [
    "## ex 17"
   ]
  },
  {
   "cell_type": "code",
   "execution_count": 187,
   "id": "9fb72fe0-ba93-4ba2-b380-364850ef4d6a",
   "metadata": {},
   "outputs": [
    {
     "name": "stdout",
     "output_type": "stream",
     "text": [
      "[1 2 3 4]\n"
     ]
    },
    {
     "data": {
      "text/plain": [
       "array([[0., 1., 0., 0., 0.],\n",
       "       [0., 1., 0., 0., 0.],\n",
       "       [0., 1., 0., 0., 0.]])"
      ]
     },
     "execution_count": 187,
     "metadata": {},
     "output_type": "execute_result"
    }
   ],
   "source": [
    "dict2={\n",
    "    'A':'a',\n",
    "    'B':'b',\n",
    "    'C':'c',\n",
    "}\n",
    "dict2['C']\n",
    "'C'in dict2.keys()\n",
    "np.linspace(-10,10,100)\n",
    "ar_a=np.arange(-5,5)\n",
    "print(ar_a[ar_a>0])\n",
    "y=np.array( [ [1,1,2],[5,14,42],[429,1430,4862] ] )\n",
    "y.T\n",
    "z=np.zeros((3,5))\n",
    "z[:,1]=1 \n",
    "z"
   ]
  }
 ],
 "metadata": {
  "kernelspec": {
   "display_name": "Python 3 (ipykernel)",
   "language": "python",
   "name": "python3"
  },
  "language_info": {
   "codemirror_mode": {
    "name": "ipython",
    "version": 3
   },
   "file_extension": ".py",
   "mimetype": "text/x-python",
   "name": "python",
   "nbconvert_exporter": "python",
   "pygments_lexer": "ipython3",
   "version": "3.13.5"
  }
 },
 "nbformat": 4,
 "nbformat_minor": 5
}
