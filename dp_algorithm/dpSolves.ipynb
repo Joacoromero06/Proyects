{
 "cells": [
  {
   "cell_type": "markdown",
   "id": "dbad00f8-4802-4d44-a07e-3f6f93b2e177",
   "metadata": {},
   "source": [
    "# Catalan Numbers\n",
    "The $n$-th Catalan number $C_n$ counts combinatorial structures like valid parenthesis pairs.  \n",
    "It is defined by:\n",
    "$$ C_n = \\frac{1}{n+1} \\frac{(2n)!}{n! \\, n!} = \\frac{(2n)!}{(n+1)! \\, n!} $$\n",
    "## Applications \n",
    "- Counting **valid parenthesis pairs** (e.g., `n=2`: `()()`, `(())` → 2 ways).\n",
    "- Enumerating **full binary trees** with $n+1$ leaves.\n",
    "- Calculating **non-crossing chords** in a circle with $2n$ points.\n",
    "\n",
    "## First 5 Values \n",
    "| $n$ | $C_n$ |\n",
    "|-----|-------|\n",
    "| 0   | 1     |\n",
    "| 1   | 1     |\n",
    "| 2   | 2     |\n",
    "| 3   | 5     |\n",
    "| 4   | 14    |"
   ]
  },
  {
   "cell_type": "code",
   "execution_count": null,
   "id": "cb706573-c044-424e-92fb-17f908ac675d",
   "metadata": {},
   "outputs": [],
   "source": []
  }
 ],
 "metadata": {
  "kernelspec": {
   "display_name": "Python (pdvenv)",
   "language": "python",
   "name": "dpvenv"
  },
  "language_info": {
   "codemirror_mode": {
    "name": "ipython",
    "version": 3
   },
   "file_extension": ".py",
   "mimetype": "text/x-python",
   "name": "python",
   "nbconvert_exporter": "python",
   "pygments_lexer": "ipython3",
   "version": "3.13.5"
  }
 },
 "nbformat": 4,
 "nbformat_minor": 5
}
