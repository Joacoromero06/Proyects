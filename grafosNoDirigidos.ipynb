{
  "nbformat": 4,
  "nbformat_minor": 0,
  "metadata": {
    "colab": {
      "provenance": [],
      "authorship_tag": "ABX9TyNxjVAyB4Izhfj4AuVeKgVF",
      "include_colab_link": true
    },
    "kernelspec": {
      "name": "python3",
      "display_name": "Python 3"
    },
    "language_info": {
      "name": "python"
    }
  },
  "cells": [
    {
      "cell_type": "markdown",
      "metadata": {
        "id": "view-in-github",
        "colab_type": "text"
      },
      "source": [
        "<a href=\"https://colab.research.google.com/github/Joacoromero06/Proyects/blob/main/grafosNoDirigidos.ipynb\" target=\"_parent\"><img src=\"https://colab.research.google.com/assets/colab-badge.svg\" alt=\"Open In Colab\"/></a>"
      ]
    },
    {
      "cell_type": "code",
      "execution_count": null,
      "metadata": {
        "id": "E6OvK40jEvSo"
      },
      "outputs": [],
      "source": [
        "from collections import defaultdict\n",
        "class Graph:\n",
        "  def __init__(self):\n",
        "    self.adj=defaultdict(list)\n",
        "  def add_edge(self,u,v,weight):\n",
        "    self.adj[u].append((v,weight))\n",
        "    self.adj[v].append((u,weight))\n",
        "  def vertexs(self):\n",
        "    return list(self.adj.keys())\n",
        "  def neighbours(self,u):\n",
        "    return self.adj[u]\n",
        "  def __str__(self):\n",
        "    return str(self.adj)"
      ]
    },
    {
      "cell_type": "code",
      "source": [
        "import heapq\n",
        "def prim(graph,start):\n",
        "  mst_edges=[]\n",
        "  U_visited=set()\n",
        "  min_heap=[(0,start,None)]\n",
        "  while min_heap:\n",
        "    weight,vertex,u=heapq.heappop(min_heap)\n",
        "    if vertex in U_visited:\n",
        "      continue\n",
        "    U_visited.add(vertex)\n",
        "    if u is not None:\n",
        "      mst_edges.append((u,vertex,weight))\n",
        "    for v,w in graph.neighbours(vertex):\n",
        "      if v not in U_visited:\n",
        "        heapq.heappush(min_heap,(w,v,vertex))\n",
        "\n",
        "  return mst_edges"
      ],
      "metadata": {
        "id": "qLNeVNhllXQ9"
      },
      "execution_count": null,
      "outputs": []
    },
    {
      "cell_type": "code",
      "source": [
        "# Crear grafo\n",
        "g = Graph()\n",
        "g.add_edge(1, 2, 2)\n",
        "g.add_edge(1, 4, 6)\n",
        "g.add_edge(2, 3, 3)\n",
        "g.add_edge(2, 5, 5)\n",
        "g.add_edge(3, 5, 7)\n",
        "g.add_edge(4, 5, 9)\n",
        "\n",
        "# Ejecutar Prim\n",
        "mst = prim(g, start=1)\n",
        "print(\"Aristas del MST:\", mst)\n"
      ],
      "metadata": {
        "colab": {
          "base_uri": "https://localhost:8080/"
        },
        "id": "keCZzUvLmYV8",
        "outputId": "992d534e-3524-49fe-d4b7-ae377645a8f9"
      },
      "execution_count": null,
      "outputs": [
        {
          "output_type": "stream",
          "name": "stdout",
          "text": [
            "Aristas del MST: [(1, 2, 2), (2, 3, 3), (2, 5, 5), (1, 4, 6)]\n"
          ]
        }
      ]
    },
    {
      "cell_type": "code",
      "source": [
        "class DSU:\n",
        "  def __init__(self,n):\n",
        "    self.parent=[i for i in range(n)]\n",
        "    self.rank=[0]*n\n",
        "  def find(self,x):\n",
        "    if self.parent[x]!=x:\n",
        "      self.parent[x]=self.find(self.parent[x])\n",
        "    return self.parent[x]\n",
        "  def union(self,x,y):\n",
        "    rx,ry=self.find(x),self.find(y)\n",
        "    if rx==ry:\n",
        "      return False\n",
        "    if self.rank[rx]<self.rank[ry]:\n",
        "      self.parent[rx]=ry\n",
        "    elif self.rank[rx]>self.rank[ry]:\n",
        "      self.parent[ry]=rx\n",
        "    else:\n",
        "      self.parent[ry]=rx\n",
        "      self.rank[rx]+=1\n",
        "    return True"
      ],
      "metadata": {
        "id": "2huH2SX2nAe4"
      },
      "execution_count": null,
      "outputs": []
    },
    {
      "cell_type": "code",
      "source": [
        "def kruskal(n,aristas):\n",
        "  aristas.sort()\n",
        "  dsu=DSU(n)\n",
        "  mst=[]\n",
        "  total_cost=0\n",
        "  for w,u,v in aristas:\n",
        "    if dsu.union(u,v):\n",
        "      mst.append((w,u,v))\n",
        "      total_cost+=w\n",
        "  return mst,total_cost"
      ],
      "metadata": {
        "id": "nkjkulYnnCQe"
      },
      "execution_count": null,
      "outputs": []
    },
    {
      "cell_type": "code",
      "source": [
        "# Grafo con 5 vértices\n",
        "edges = [\n",
        "    (2, 0, 1),\n",
        "    (6, 0, 3),\n",
        "    (3, 1, 2),\n",
        "    (8, 1, 3),\n",
        "    (5, 1, 4),\n",
        "    (7, 2, 4),\n",
        "    (9, 3, 4)\n",
        "]\n",
        "\n",
        "mst, cost = kruskal(5, edges)\n",
        "print(\"MST:\", mst)\n",
        "print(\"Costo total:\", cost)\n"
      ],
      "metadata": {
        "colab": {
          "base_uri": "https://localhost:8080/"
        },
        "id": "c-gu67Z-oTyI",
        "outputId": "221224f2-3851-4531-f24c-1900beb080d5"
      },
      "execution_count": null,
      "outputs": [
        {
          "output_type": "stream",
          "name": "stdout",
          "text": [
            "MST: [(2, 0, 1), (3, 1, 2), (5, 1, 4), (6, 0, 3)]\n",
            "Costo total: 16\n"
          ]
        }
      ]
    },
    {
      "cell_type": "code",
      "source": [
        "from collections import defaultdict\n",
        "from typing import Dict, List, Set, Tuple\n",
        "\n",
        "class ArticulationPoints:\n",
        "    def __init__(self, num_vertices: int):\n",
        "        self.V = num_vertices\n",
        "        self.graph: Dict[int, List[int]] = defaultdict(list)\n",
        "        self.time = 0\n",
        "        self.num: List[int] = [-1] * self.V   # orden de descubrimiento\n",
        "        self.low: List[int] = [-1] * self.V   # valor low\n",
        "        self.parent: List[int] = [-1] * self.V\n",
        "        self.ap: Set[int] = set()  # puntos de articulación encontrados\n",
        "\n",
        "    def add_edge(self, u: int, v: int):\n",
        "        \"\"\"Agrega una arista no dirigida\"\"\"\n",
        "        self.graph[u].append(v)\n",
        "        self.graph[v].append(u)\n",
        "\n",
        "    def _dfs(self, u: int):\n",
        "        \"\"\"DFS modificada para calcular low[] y encontrar puntos de articulación\"\"\"\n",
        "        self.time += 1\n",
        "        self.num[u] = self.low[u] = self.time\n",
        "        children = 0  # número de hijos en el árbol DFS\n",
        "\n",
        "        for v in self.graph[u]:\n",
        "            if self.num[v] == -1:\n",
        "                # v no visitado → arista de árbol\n",
        "                self.parent[v] = u\n",
        "                children += 1\n",
        "                self._dfs(v)\n",
        "\n",
        "                # Al volver, actualizamos low[u]\n",
        "                self.low[u] = min(self.low[u], self.low[v])\n",
        "\n",
        "                # Caso 1: u es raíz y tiene más de un hijo\n",
        "                if self.parent[u] == -1 and children > 1:\n",
        "                    self.ap.add(u)\n",
        "\n",
        "                # Caso 2: u no es raíz y low[v] >= num[u]\n",
        "                if self.parent[u] != -1 and self.low[v] >= self.num[u]:\n",
        "                    self.ap.add(u)\n",
        "\n",
        "            elif v != self.parent[u]:\n",
        "                # Arista de retroceso\n",
        "                self.low[u] = min(self.low[u], self.num[v])\n",
        "\n",
        "    def find_articulation_points(self) -> Set[int]:\n",
        "        \"\"\"Encuentra todos los puntos de articulación\"\"\"\n",
        "        for u in range(self.V):\n",
        "            if self.num[u] == -1:\n",
        "                self._dfs(u)\n",
        "        return self.ap\n",
        "\n",
        "\n",
        "# Ejemplo de uso\n",
        "if __name__ == \"__main__\":\n",
        "    g = ArticulationPoints(5)\n",
        "    edges = [(0, 1), (1, 2), (2, 0), (1, 3), (3, 4)]\n",
        "    for u, v in edges:\n",
        "        g.add_edge(u, v)\n",
        "\n",
        "    puntos = g.find_articulation_points()\n",
        "    print(\"Puntos de articulación:\", puntos)  # Output esperado: {1, 3}\n"
      ],
      "metadata": {
        "id": "n8A-FtRfXsux"
      },
      "execution_count": null,
      "outputs": []
    },
    {
      "cell_type": "code",
      "source": [
        "from collections import deque\n",
        "\n",
        "INF = float('inf')\n",
        "\n",
        "class HopcroftKarp:\n",
        "    def __init__(self, graph, U, V):\n",
        "        \"\"\"\n",
        "        graph: diccionario {u: [v1, v2, ...]} con aristas desde U a V\n",
        "        U: conjunto de vértices del lado izquierdo\n",
        "        V: conjunto de vértices del lado derecho\n",
        "        \"\"\"\n",
        "        self.graph = graph\n",
        "        self.U = U\n",
        "        self.V = V\n",
        "        self.pair_u = {u: None for u in U}  # emparejamiento en U\n",
        "        self.pair_v = {v: None for v in V}  # emparejamiento en V\n",
        "        self.dist = {}\n",
        "\n",
        "    def bfs(self):\n",
        "        \"\"\"Construye niveles y devuelve True si hay al menos un camino aumentado.\"\"\"\n",
        "        queue = deque()\n",
        "        for u in self.U:\n",
        "            if self.pair_u[u] is None:  # vértice libre\n",
        "                self.dist[u] = 0\n",
        "                queue.append(u)\n",
        "            else:\n",
        "                self.dist[u] = INF\n",
        "\n",
        "        found = False\n",
        "        while queue:\n",
        "            u = queue.popleft()\n",
        "            for v in self.graph.get(u, []):\n",
        "                u2 = self.pair_v[v]\n",
        "                if u2 is None:\n",
        "                    found = True  # encontramos un vértice libre en V\n",
        "                elif self.dist[u2] == INF:\n",
        "                    self.dist[u2] = self.dist[u] + 1\n",
        "                    queue.append(u2)\n",
        "        return found\n",
        "\n",
        "    def dfs(self, u):\n",
        "        \"\"\"Intenta encontrar un camino aumentado desde u.\"\"\"\n",
        "        for v in self.graph.get(u, []):\n",
        "            u2 = self.pair_v[v]\n",
        "            if u2 is None or (self.dist[u2] == self.dist[u] + 1 and self.dfs(u2)):\n",
        "                self.pair_u[u] = v\n",
        "                self.pair_v[v] = u\n",
        "                return True\n",
        "        self.dist[u] = INF\n",
        "        return False\n",
        "\n",
        "    def max_matching(self):\n",
        "        matching = 0\n",
        "        while self.bfs():\n",
        "            for u in self.U:\n",
        "                if self.pair_u[u] is None:\n",
        "                    if self.dfs(u):\n",
        "                        matching += 1\n",
        "        return matching\n"
      ],
      "metadata": {
        "id": "uC0jHWG9ruiP"
      },
      "execution_count": 1,
      "outputs": []
    },
    {
      "cell_type": "code",
      "source": [
        "U = {\"u1\", \"u2\", \"u3\"}\n",
        "V = {\"v1\", \"v2\", \"v3\"}\n",
        "graph = {\n",
        "    \"u1\": [\"v1\", \"v2\"],\n",
        "    \"u2\": [\"v1\"],\n",
        "    \"u3\": [\"v2\", \"v3\"]\n",
        "}\n",
        "\n",
        "hk = HopcroftKarp(graph, U, V)\n",
        "max_match = hk.max_matching()\n",
        "print(\"Emparejamiento máximo:\", max_match)\n",
        "print(\"pair_u:\", hk.pair_u)\n",
        "print(\"pair_v:\", hk.pair_v)\n"
      ],
      "metadata": {
        "colab": {
          "base_uri": "https://localhost:8080/"
        },
        "id": "CuxtpSrqrxDK",
        "outputId": "4e96c0f0-f4b6-46e8-bd52-578897830bb8"
      },
      "execution_count": 2,
      "outputs": [
        {
          "output_type": "stream",
          "name": "stdout",
          "text": [
            "Emparejamiento máximo: 3\n",
            "pair_u: {'u3': 'v3', 'u2': 'v1', 'u1': 'v2'}\n",
            "pair_v: {'v3': 'u3', 'v2': 'u1', 'v1': 'u2'}\n"
          ]
        }
      ]
    }
  ]
}