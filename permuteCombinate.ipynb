{
  "cells": [
    {
      "cell_type": "markdown",
      "id": "abdabdbf-ccb1-40d5-b9ec-3681e76bf2fd",
      "metadata": {
        "id": "abdabdbf-ccb1-40d5-b9ec-3681e76bf2fd"
      },
      "source": [
        "# Fundamental Counting Principles\n",
        "\n",
        "## Rule of Product (Multiplication Principle)\n",
        "\n",
        "**Statement:**  \n",
        "If a task consists of a sequence of independent subtasks:\n",
        "- There are $n_1$ ways to do the first subtask  \n",
        "- For each way of doing the first subtask, there are $n_2$ ways to do the second subtask  \n",
        "- $\\vdots$  \n",
        "- For each way of doing the first $k-1$ subtasks, there are $n_k$ ways to do the $k^{th}$ subtask  \n",
        "\n",
        "Then the total number of ways is:  \n",
        "$$ n_1 \\times n_2 \\times \\cdots \\times n_k $$\n",
        "\n",
        "**Example:**  \n",
        "3 shirts × 4 pants = $3 \\times 4 = 12$ outfits  \n",
        "\n",
        "---\n",
        "\n",
        "## Rule of Sum (Addition Principle)\n",
        "\n",
        "**Statement:**  \n",
        "If a task can be done in mutually exclusive ways:  \n",
        "- $m$ ways using method A  \n",
        "- $n$ ways using method B  \n",
        "\n",
        "Then the total number of ways is:  \n",
        "$$ m + n $$\n",
        "\n",
        "**Example:**  \n",
        "3 bus routes + 2 train lines = $3 + 2 = 5$ travel options  \n",
        "\n",
        "---\n",
        "\n",
        "## Key Differences\n",
        "\n",
        "| Feature        | Product Rule                | Sum Rule                |\n",
        "|----------------|-----------------------------|-------------------------|\n",
        "| **When to use** | Sequential choices (AND)    | Alternative choices (OR) |\n",
        "| **Operation**  | Multiply possibilities      | Add possibilities       |\n",
        "| **Visual**     | Tree diagram branches       | Separate distinct paths |\n",
        "\n",
        "---\n",
        "\n",
        "## Combined Usage\n",
        "\n",
        "1. **First apply Product Rule** within each case  \n",
        "   $$ \\text{Case 1: } 26^6 \\text{ letter passwords} $$  \n",
        "   $$ \\text{Case 2: } 10^4 \\text{ number passwords} $$  \n",
        "\n",
        "2. **Then apply Sum Rule** across cases  \n",
        "   $$ \\text{Total} = 26^6 + 10^4 $$"
      ]
    },
    {
      "cell_type": "markdown",
      "id": "2a99f406-f891-4232-9a7e-1c941c34f66a",
      "metadata": {
        "id": "2a99f406-f891-4232-9a7e-1c941c34f66a"
      },
      "source": [
        "How many ways can we make a license plate with...\n",
        "\n",
        "(a) 3 even numbers and 3 letters?   \n",
        "(b) 2 numbers, 2 letters, 1 odd number, 1 even number, and 2 vowels?  \n",
        "(c) 6 letters that are not the same.   "
      ]
    },
    {
      "cell_type": "code",
      "execution_count": 9,
      "id": "f24ccf74-b0b5-47f8-871a-e7d8a15597b2",
      "metadata": {
        "colab": {
          "base_uri": "https://localhost:8080/"
        },
        "id": "f24ccf74-b0b5-47f8-871a-e7d8a15597b2",
        "outputId": "12341bd9-9653-4f82-e228-ce39f6201aa6"
      },
      "outputs": [
        {
          "output_type": "stream",
          "name": "stdout",
          "text": [
            "39062500\n"
          ]
        }
      ],
      "source": [
        "def makeLicense_plate(opc,alf,digits):\n",
        "    if(opc==\"a\"):\n",
        "        return (len(digits)**3) * (len(alf)**3)\n",
        "    if(opc==\"b\"):\n",
        "        return (len(digits)**2) * (len(alf)**2) * 5**4\n",
        "    if(opc==\"c\"):\n",
        "        c=1\n",
        "        i=1\n",
        "        for i in range (6):\n",
        "            c*=(len(alf)-i)\n",
        "        return c\n",
        "\n",
        "alf=['a','b','c','d','e','f','g','h','i','j','k','m','l','n','o','p','q','r','s','t','v','w','x','y','z']\n",
        "digits=[0,1,2,3,4,5,6,7,8,9]\n",
        "print(makeLicense_plate(\"b\",alf,digits))"
      ]
    },
    {
      "cell_type": "markdown",
      "id": "0b9b1b0e-0161-41e2-8381-2e06654d3d5b",
      "metadata": {
        "id": "0b9b1b0e-0161-41e2-8381-2e06654d3d5b"
      },
      "source": [
        "# Introduction to Factorials and Permutations\n",
        "\n",
        "## Factorial Definition\n",
        "The factorial of a non-negative integer $n$, denoted $n!$, is:\n",
        "$$ n! = n \\times (n-1) \\times (n-2) \\times \\cdots \\times 2 \\times 1 $$\n",
        "- Represents arrangements of $n$ distinct objects\n",
        "- $0! = 1$ by definition\n",
        "---\n",
        "\n",
        "## Key Relationships\n",
        "| Concept          | Order Matters? | Formula                      |\n",
        "|------------------|----------------|------------------------------|\n",
        "| Full Permutation | Yes            | $n!$                         |\n",
        "| Partial Perm     | Yes            | $\\frac{n!}{(n-r)!}$          |\n",
        "| Combination      | No             | $\\frac{n!}{r!(n-r)!}$        |\n",
        "| Multinomial      | Adjusted       | $\\frac{n!}{\\prod n_i!}$      |"
      ]
    },
    {
      "cell_type": "markdown",
      "id": "a32f4e8c-8c05-4ec0-86fd-714ad01e75a6",
      "metadata": {
        "id": "a32f4e8c-8c05-4ec0-86fd-714ad01e75a6"
      },
      "source": [
        "### 1. Permutations (Full Arrangement)\n",
        "Number of ways to arrange all $n$ distinct objects:\n",
        "$$ P(n) = n! $$\n",
        "\n",
        "**Example:**  \n",
        "For 3 objects (A,B,C):  \n",
        "$3! = 6$ arrangements: ABC, ACB, BAC, BCA, CAB, CBA"
      ]
    },
    {
      "cell_type": "code",
      "execution_count": 10,
      "id": "e9647e85-6489-4326-a860-1dba06425068",
      "metadata": {
        "colab": {
          "base_uri": "https://localhost:8080/"
        },
        "id": "e9647e85-6489-4326-a860-1dba06425068",
        "outputId": "b877eec8-9e59-41bb-a383-8abd0fde4876"
      },
      "outputs": [
        {
          "output_type": "stream",
          "name": "stdout",
          "text": [
            "120\n"
          ]
        }
      ],
      "source": [
        "def fact(n):\n",
        "    factorials=[1,1]\n",
        "    for i in range(2,n+1):\n",
        "        factorials.append(factorials[i-1]*i)\n",
        "    return factorials[n]\n",
        "print(fact(5))"
      ]
    },
    {
      "cell_type": "code",
      "execution_count": 11,
      "id": "9839b842-f739-4122-83cb-16c2d3555964",
      "metadata": {
        "colab": {
          "base_uri": "https://localhost:8080/"
        },
        "id": "9839b842-f739-4122-83cb-16c2d3555964",
        "outputId": "fd74f154-3ebb-4d41-f8a4-6175aaa760b3"
      },
      "outputs": [
        {
          "output_type": "stream",
          "name": "stdout",
          "text": [
            "there are  86400  ways to arrange data with the an starting condition\n"
          ]
        }
      ],
      "source": [
        "def condition(elem):\n",
        "    #check if the element is an even\n",
        "    return elem%2==0\n",
        "\n",
        "def PwStartingCondition(condition, input_set):\n",
        "    \"\"\"Return number of permutations where elements satisfying condition come first.\n",
        "\n",
        "    Args:\n",
        "        condition: A function that takes an element and returns True/False.\n",
        "        input_set: An iterable of elements to arrange.\n",
        "\n",
        "    Returns:\n",
        "        Integer number of valid permutations, or 0 if input is invalid.\n",
        "    \"\"\"\n",
        "    if not input_set:\n",
        "        return 0\n",
        "    c = sum(1 for x in input_set if condition(x))\n",
        "    n=len(input_set)\n",
        "    return fact(c)*fact(n-c)\n",
        "\n",
        "#example\n",
        "data=[1,23,1,23,123,1,3,13,124,12,412,41,12,2,2,1,122,3,23,412]\n",
        "data_set=list(set(data))\n",
        "print(\"there are \",PwStartingCondition(condition,data_set),\" ways to arrange data with the an starting condition\")"
      ]
    },
    {
      "cell_type": "markdown",
      "id": "4fc3ca86-fd70-4c49-aa25-a58ed907ba78",
      "metadata": {
        "id": "4fc3ca86-fd70-4c49-aa25-a58ed907ba78"
      },
      "source": [
        "### 2. Partial Permutations ($r$ from $n$)\n",
        "Ordered selection of $r$ objects from $n$:\n",
        "$$ P(n,r) = \\frac{n!}{(n-r)!} = n \\times (n-1) \\times \\cdots \\times (n-r+1) $$\n",
        "\n",
        "**Example:**  \n",
        "Choose 3 letters from 5 (A-E):  \n",
        "$P(5,3) = 5 \\times 4 \\times 3 = 60$\n",
        "\n",
        "---"
      ]
    },
    {
      "cell_type": "code",
      "execution_count": 12,
      "id": "3fa4542c-af9e-4c31-8609-a8c04079d78e",
      "metadata": {
        "colab": {
          "base_uri": "https://localhost:8080/"
        },
        "id": "3fa4542c-af9e-4c31-8609-a8c04079d78e",
        "outputId": "93fd902f-3ec8-4895-d0c1-b72e1e6732d4"
      },
      "outputs": [
        {
          "output_type": "stream",
          "name": "stdout",
          "text": [
            "840.0\n"
          ]
        }
      ],
      "source": [
        "#HM ways to select k element from a set(doesnt have repeated) with n elements\n",
        "def P(n,k):\n",
        "    return fact(n)/fact(n-k)\n",
        "print(P(7,4))"
      ]
    },
    {
      "cell_type": "markdown",
      "id": "ef0566d6-6f2c-4c1f-8588-7e7b14645334",
      "metadata": {
        "id": "ef0566d6-6f2c-4c1f-8588-7e7b14645334"
      },
      "source": [
        "\n",
        "### 3. Combinations (Unordered Selection)\n",
        "$$ C(n,r) = \\binom{n}{r} = \\frac{n!}{r!(n-r)!} $$\n",
        "\n",
        "**Example:**  \n",
        "Choose 2 cards from 5:  \n",
        "$C(5,2) = \\frac{5!}{2!3!} = 10$\n",
        "\n",
        "---"
      ]
    },
    {
      "cell_type": "code",
      "execution_count": 13,
      "id": "c02d72aa-92ce-4579-ad45-26a216d5e8e4",
      "metadata": {
        "id": "c02d72aa-92ce-4579-ad45-26a216d5e8e4"
      },
      "outputs": [],
      "source": [
        "def C(n,r):\n",
        "    return fact(n)/(fact(n-r)*fact(r))"
      ]
    },
    {
      "cell_type": "markdown",
      "id": "2f9af84c-666d-4a8d-acce-ebf74b063d05",
      "metadata": {
        "id": "2f9af84c-666d-4a8d-acce-ebf74b063d05"
      },
      "source": [
        "### 4. Multinomial (Repeated Elements)\n",
        "For $n$ objects with duplicates ($n_1$ of type 1, etc.):\n",
        "$$ \\frac{n!}{n_1! n_2! \\cdots n_k!} $$\n",
        "\n",
        "**Example:**  \n",
        "Arrangements of \"MISSISSIPPI\":  \n",
        "$\\frac{11!}{1!4!4!2!} = 34,\\!650$\n",
        "\n",
        "---"
      ]
    },
    {
      "cell_type": "code",
      "execution_count": 14,
      "id": "7c1a3c74-97bf-483d-8b2c-4a6932284b33",
      "metadata": {
        "colab": {
          "base_uri": "https://localhost:8080/"
        },
        "id": "7c1a3c74-97bf-483d-8b2c-4a6932284b33",
        "outputId": "091ceca7-d5ec-40fb-e9a5-d1a6e9829b10"
      },
      "outputs": [
        {
          "output_type": "stream",
          "name": "stdout",
          "text": [
            "1055947052160000.0\n"
          ]
        }
      ],
      "source": [
        "def filtering(L):\n",
        "    dictionary={}\n",
        "    for x in L:\n",
        "        if x not in dictionary:\n",
        "            dictionary[x]=1\n",
        "        else:\n",
        "            dictionary[x]+=1\n",
        "    return dictionary\n",
        "def MultinomialPermutation(L,filtering):\n",
        "    \"\"\"Return the number of distinct permutations of a list with repeated elements.\n",
        "\n",
        "    Args:\n",
        "        input_list: A list or string of elements (may contain duplicates).\n",
        "\n",
        "    Returns:\n",
        "        Integer number of distinct permutations.\n",
        "    \"\"\"\n",
        "    if not L:\n",
        "        return 0\n",
        "    n=len(L)\n",
        "    dictionary=filtering(L)\n",
        "    productory=1\n",
        "    for times in dictionary.values():\n",
        "        productory*=fact(times)\n",
        "    return fact(n)/productory\n",
        "\n",
        "data=[1,23,1,23,123,1,3,13,124,12,412,41,12,2,2,1,122,3,23,412]\n",
        "print(MultinomialPermutation(data,filtering))\n",
        ""
      ]
    },
    {
      "cell_type": "code",
      "execution_count": 15,
      "id": "f7fdd3db-2906-4b72-9c90-d449368b2d89",
      "metadata": {
        "id": "f7fdd3db-2906-4b72-9c90-d449368b2d89"
      },
      "outputs": [],
      "source": [
        "def calc_paths(p0,p1):\n",
        "    \"\"\"Compute number of shortest path from p0 to p1\n",
        "    Args:\n",
        "      p0: Tuple (x0,y0) starting point\n",
        "      p1: Tuple (x1,y1) ending point\n",
        "    Return:\n",
        "      Integer number of shortes path\n",
        "      Move sequence list\"\"\"\n",
        "    #input\n",
        "    x0,y0=p0\n",
        "    x1,y1=p1\n",
        "    dx=x1-x0\n",
        "    dy=y1-y0\n",
        "\n",
        "    #important data\n",
        "    movements={'N':0,'S':0,'W':0,'E':0}\n",
        "\n",
        "    #calculates moves\n",
        "    if(dx>0):\n",
        "      movements['E']=dx\n",
        "    else:\n",
        "      movements['W']=-dx\n",
        "    if(dy>0):\n",
        "      movements['N']=dy\n",
        "    else:\n",
        "      movements['S']=-dy\n",
        "\n",
        "    #calculate a sequence list\n",
        "    sequence=['N']*movements['N']+['S']*movements['S']+['E']*movements['E']+['W']*movements['W']\n",
        "\n",
        "    #calculate number of shortest path\n",
        "    paths=MultinomialPermutation(sequence,filtering)\n",
        "\n",
        "    return paths,sequence"
      ]
    },
    {
      "cell_type": "code",
      "source": [
        "import matplotlib.pyplot as plt\n",
        "def plot_points(p0,p1):\n",
        "  \"\"\"Generate an plot acord to the point\n",
        "  Args:\n",
        "    p0: Tuple (x0,y0) starting point\n",
        "    p1: Tuple (x1,y1) ending point\n",
        "  Return:\n",
        "    None\n",
        "  \"\"\"\n",
        "  # Data\n",
        "  x0,y0=p0\n",
        "  x1,y1=p1\n",
        "  manhattan_distance=abs(x1-x0)+abs(y1-y0)\n",
        "  # Set limits\n",
        "  padding=1\n",
        "  x_min=min(x0,x1)-padding\n",
        "  x_max=max(x0,x1)+padding\n",
        "  y_min=min(y0,y1)-padding\n",
        "  y_max=max(y0,y1)+padding\n",
        "\n",
        "  # Create figure and axes\n",
        "  fig,ax= plt.subplots()\n",
        "\n",
        "  # Plot poins\n",
        "  ax.plot(x0,y0,'ro', label='P0')\n",
        "  ax.plot(x1,y1,'bo', label='P1')\n",
        "\n",
        "  # Preparing plot\n",
        "  ax.grid(True)\n",
        "  ax.set_xlim(x_min,x_max)\n",
        "  ax.set_ylim(y_min,y_max)\n",
        "  ax.legend('IF')\n",
        "  ax.set_xlabel('X')\n",
        "  ax.set_ylabel('Y')\n",
        "  ax.set_title(f'Graph Path from {p0} to {p1}, Manhattan Distance: {manhattan_distance}')\n",
        "  plt.show()\n",
        "plot_points((-2,-1),(3,2))"
      ],
      "metadata": {
        "colab": {
          "base_uri": "https://localhost:8080/",
          "height": 472
        },
        "id": "cWmFsk7-5kWN",
        "outputId": "6447fa39-0964-4207-ebf5-04ef9e23fb8a"
      },
      "id": "cWmFsk7-5kWN",
      "execution_count": 29,
      "outputs": [
        {
          "output_type": "display_data",
          "data": {
            "text/plain": [
              "<Figure size 640x480 with 1 Axes>"
            ],
            "image/png": "[encoded data removed]"
          },
          "metadata": {}
        }
      ]
    }
  ],
  "metadata": {
    "kernelspec": {
      "display_name": "Python (pdvenv)",
      "language": "python",
      "name": "dpvenv"
    },
    "language_info": {
      "codemirror_mode": {
        "name": "ipython",
        "version": 3
      },
      "file_extension": ".py",
      "mimetype": "text/x-python",
      "name": "python",
      "nbconvert_exporter": "python",
      "pygments_lexer": "ipython3",
      "version": "3.13.5"
    },
    "colab": {
      "provenance": []
    }
  },
  "nbformat": 4,
  "nbformat_minor": 5
}