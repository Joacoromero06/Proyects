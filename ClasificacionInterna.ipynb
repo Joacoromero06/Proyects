{
  "nbformat": 4,
  "nbformat_minor": 0,
  "metadata": {
    "colab": {
      "provenance": [],
      "authorship_tag": "ABX9TyNM+UiWDjPTCwy7szXKtGZh",
      "include_colab_link": true
    },
    "kernelspec": {
      "name": "python3",
      "display_name": "Python 3"
    },
    "language_info": {
      "name": "python"
    }
  },
  "cells": [
    {
      "cell_type": "markdown",
      "metadata": {
        "id": "view-in-github",
        "colab_type": "text"
      },
      "source": [
        "<a href=\"https://colab.research.google.com/github/Joacoromero06/Proyects/blob/main/ClasificacionInterna.ipynb\" target=\"_parent\"><img src=\"https://colab.research.google.com/assets/colab-badge.svg\" alt=\"Open In Colab\"/></a>"
      ]
    },
    {
      "cell_type": "code",
      "execution_count": 4,
      "metadata": {
        "colab": {
          "base_uri": "https://localhost:8080/"
        },
        "id": "MYxbsO4gxPhO",
        "outputId": "5328980c-0e59-406f-a863-3a020fa1163c"
      },
      "outputs": [
        {
          "output_type": "stream",
          "name": "stdout",
          "text": [
            "[1, 3, 5, 12, 13, 32]\n"
          ]
        }
      ],
      "source": [
        "# L is a classic python list uses index from 0 to len(L)\n",
        "\n",
        "def buble_sort(L):\n",
        "  for i in range(len(L)):\n",
        "    for j in range(i,len(L)-i-1):\n",
        "      if L[j]>L[j+1]:\n",
        "        L[j+1],L[j]=L[j],L[j+1]\n",
        "def bubble_sort2(L):\n",
        "  for i in range(len(L)):\n",
        "    for j in range(len(L)-1,i-1,-1):\n",
        "      if L[j]<L[j-1]:\n",
        "        L[j],L[j-1]=L[j-1],L[j]\n",
        "\n",
        "\n",
        "def insertion_sort(L):\n",
        "  for i in range(1,len(L)):\n",
        "    j=i\n",
        "    while L[j]<L[j-1] and j>0:\n",
        "      L[j],L[j-1]=L[j-1],L[j]\n",
        "      j-=1\n",
        "\n",
        "def selection_sort(L):\n",
        "  for i in range(len(L)-1):\n",
        "    for j in range(i+1,len(L)):\n",
        "      if(L[j]<L[i]):\n",
        "        L[i],L[j]=L[j],L[i]\n",
        "\n",
        "#Example\n",
        "lista=[3,1,12,5,32,13]\n",
        "bubble_sort2(lista)\n",
        "print(lista)"
      ]
    },
    {
      "cell_type": "code",
      "source": [],
      "metadata": {
        "id": "SzZgUVW91ULE"
      },
      "execution_count": null,
      "outputs": []
    }
  ]
}