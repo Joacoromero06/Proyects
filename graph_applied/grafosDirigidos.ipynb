{
  "nbformat": 4,
  "nbformat_minor": 0,
  "metadata": {
    "colab": {
      "provenance": [],
      "authorship_tag": "ABX9TyN8AtMKJ8uTLoflM+MMnIGw",
      "include_colab_link": true
    },
    "kernelspec": {
      "name": "python3",
      "display_name": "Python 3"
    },
    "language_info": {
      "name": "python"
    }
  },
  "cells": [
    {
      "cell_type": "markdown",
      "metadata": {
        "id": "view-in-github",
        "colab_type": "text"
      },
      "source": [
        "<a href=\"https://colab.research.google.com/github/Joacoromero06/Proyects/blob/main/grafosDirigidos.ipynb\" target=\"_parent\"><img src=\"https://colab.research.google.com/assets/colab-badge.svg\" alt=\"Open In Colab\"/></a>"
      ]
    },
    {
      "cell_type": "code",
      "execution_count": null,
      "metadata": {
        "id": "V3_B1tAzYQNc"
      },
      "outputs": [],
      "source": [
        "def tiene_ciclo(grafo):\n",
        "    n = len(grafo)\n",
        "    visitado = [0] * n  # 0 = no visitado, 1 = en pila, 2 = terminado\n",
        "\n",
        "    def dfs(u):\n",
        "        visitado[u] = 1  # gris\n",
        "        for v in grafo[u]:\n",
        "            if visitado[v] == 1:\n",
        "                return True  # ciclo\n",
        "            if visitado[v] == 0:\n",
        "                if dfs(v):\n",
        "                    return True\n",
        "        visitado[u] = 2  # negro\n",
        "        return False\n",
        "\n",
        "    for u in range(n):\n",
        "        if visitado[u] == 0:\n",
        "            if dfs(u):\n",
        "                return True\n",
        "    return False\n"
      ]
    },
    {
      "cell_type": "code",
      "source": [
        "def orden_topologico(grafo):\n",
        "    n = len(grafo)\n",
        "    visitado = [False] * n\n",
        "    pila = []\n",
        "\n",
        "    def dfs(u):\n",
        "        visitado[u] = True\n",
        "        for v in grafo[u]:\n",
        "            if not visitado[v]:\n",
        "                dfs(v)\n",
        "        pila.append(u)\n",
        "\n",
        "    for u in range(n):\n",
        "        if not visitado[u]:\n",
        "            dfs(u)\n",
        "\n",
        "    return pila[::-1]  # Invertimos para obtener el orden correcto\n"
      ],
      "metadata": {
        "id": "8uLLGbwLYZiB"
      },
      "execution_count": null,
      "outputs": []
    },
    {
      "cell_type": "code",
      "source": [
        "from collections import defaultdict\n",
        "\n",
        "def dfs_postorder(grafo):\n",
        "    \"\"\"Primer DFS sobre G. Retorna lista con postorden inverso de finalización.\"\"\"\n",
        "    visitado = set()\n",
        "    postorden = []\n",
        "\n",
        "    def dfs(v):\n",
        "        visitado.add(v)\n",
        "        for w in grafo[v]:\n",
        "            if w not in visitado:\n",
        "                dfs(w)\n",
        "        postorden.append(v)  # al terminar el nodo, se agrega\n",
        "\n",
        "    for v in grafo:\n",
        "        if v not in visitado:\n",
        "            dfs(v)\n",
        "\n",
        "    return postorden[::-1]  # postorden inverso\n",
        "\n",
        "\n",
        "def dfs_componentes(grafo, orden):\n",
        "    \"\"\"Segundo DFS sobre Gr, usando orden inverso del postorden de G.\"\"\"\n",
        "    visitado = set()\n",
        "    componentes = []\n",
        "\n",
        "    def dfs(v, componente_actual):\n",
        "        visitado.add(v)\n",
        "        componente_actual.append(v)\n",
        "        for w in grafo[v]:\n",
        "            if w not in visitado:\n",
        "                dfs(w, componente_actual)\n",
        "\n",
        "    for v in orden:\n",
        "        if v not in visitado:\n",
        "            componente = []\n",
        "            dfs(v, componente)\n",
        "            componentes.append(componente)\n",
        "\n",
        "    return componentes\n",
        "\n",
        "\n",
        "def encontrar_componentes_fuertemente_conexas(grafo, grafo_invertido):\n",
        "    orden = dfs_postorder(grafo)                    # Paso 1\n",
        "    componentes = dfs_componentes(grafo_invertido, orden)  # Paso 2 y 3\n",
        "    return componentes\n"
      ],
      "metadata": {
        "id": "3bhxuEMj7WIJ"
      },
      "execution_count": null,
      "outputs": []
    }
  ]
}